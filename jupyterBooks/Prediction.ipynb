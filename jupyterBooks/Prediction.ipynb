{
 "cells": [
  {
   "cell_type": "code",
   "execution_count": 2,
   "id": "d401db03-4764-4c3b-8a3d-a13945572ab4",
   "metadata": {
    "scrolled": true
   },
   "outputs": [
    {
     "ename": "ModuleNotFoundError",
     "evalue": "No module named 'xgboost'",
     "output_type": "error",
     "traceback": [
      "\u001b[1;31m---------------------------------------------------------------------------\u001b[0m",
      "\u001b[1;31mModuleNotFoundError\u001b[0m                       Traceback (most recent call last)",
      "Cell \u001b[1;32mIn[2], line 4\u001b[0m\n\u001b[0;32m      2\u001b[0m \u001b[38;5;28;01mimport\u001b[39;00m \u001b[38;5;21;01mjson\u001b[39;00m\n\u001b[0;32m      3\u001b[0m \u001b[38;5;28;01mimport\u001b[39;00m \u001b[38;5;21;01mpandas\u001b[39;00m \u001b[38;5;28;01mas\u001b[39;00m \u001b[38;5;21;01mpd\u001b[39;00m\n\u001b[1;32m----> 4\u001b[0m \u001b[38;5;28;01mimport\u001b[39;00m \u001b[38;5;21;01mxgboost\u001b[39;00m\n",
      "\u001b[1;31mModuleNotFoundError\u001b[0m: No module named 'xgboost'"
     ]
    }
   ],
   "source": [
    "import pickle\n",
    "import json\n",
    "import pandas as pd\n",
    "import xgboost"
   ]
  },
  {
   "cell_type": "code",
   "execution_count": 13,
   "id": "5cccbf70-9d64-4ef3-9982-053fbf99ca03",
   "metadata": {},
   "outputs": [],
   "source": [
    "original_data = pd.read_excel(\"Unseen_Dataset.xlsx\")\n",
    "unseen_data = original_data.copy()"
   ]
  },
  {
   "cell_type": "code",
   "execution_count": 49,
   "id": "039b477b-2255-4c6c-a8c0-dd5c20ea2801",
   "metadata": {},
   "outputs": [
    {
     "ename": "ModuleNotFoundError",
     "evalue": "No module named 'xgboost'",
     "output_type": "error",
     "traceback": [
      "\u001b[1;31m---------------------------------------------------------------------------\u001b[0m",
      "\u001b[1;31mModuleNotFoundError\u001b[0m                       Traceback (most recent call last)",
      "Cell \u001b[1;32mIn[49], line 1\u001b[0m\n\u001b[1;32m----> 1\u001b[0m xgModel \u001b[38;5;241m=\u001b[39m \u001b[43mpickle\u001b[49m\u001b[38;5;241;43m.\u001b[39;49m\u001b[43mload\u001b[49m\u001b[43m(\u001b[49m\u001b[38;5;28;43mopen\u001b[39;49m\u001b[43m(\u001b[49m\u001b[38;5;124;43m'\u001b[39;49m\u001b[38;5;124;43mxgboost_model.pkl\u001b[39;49m\u001b[38;5;124;43m'\u001b[39;49m\u001b[43m,\u001b[49m\u001b[38;5;124;43m'\u001b[39;49m\u001b[38;5;124;43mrb\u001b[39;49m\u001b[38;5;124;43m'\u001b[39;49m\u001b[43m)\u001b[49m\u001b[43m)\u001b[49m\n",
      "\u001b[1;31mModuleNotFoundError\u001b[0m: No module named 'xgboost'"
     ]
    }
   ],
   "source": [
    "xgModel = pickle.load(open('xgboost_model.pkl','rb'))"
   ]
  },
  {
   "cell_type": "code",
   "execution_count": 9,
   "id": "ebb7b121-5f5c-4fe4-b725-4fa49828c12d",
   "metadata": {},
   "outputs": [],
   "source": [
    "colNames = pickle.load(open('finalColumnsName.pkl','rb'))\n",
    "colNames"
   ]
  },
  {
   "cell_type": "code",
   "execution_count": 31,
   "id": "67480cac-ee01-4eb0-8e55-0b09c1dd4d0b",
   "metadata": {},
   "outputs": [
    {
     "data": {
      "text/plain": [
       "{'MARITALSTATUS': ['Married', 'Single'],\n",
       " 'GENDER': ['M', 'F'],\n",
       " 'last_prod_enq2': ['PL', 'ConsumerLoan', 'AL', 'CC', 'others', 'HL'],\n",
       " 'first_prod_enq2': ['PL', 'ConsumerLoan', 'others', 'AL', 'HL', 'CC']}"
      ]
     },
     "execution_count": 31,
     "metadata": {},
     "output_type": "execute_result"
    }
   ],
   "source": [
    "catColandLabels = json.load(open('CatColumnsAndlabels.json','rb'))\n",
    "catColandLabels"
   ]
  },
  {
   "cell_type": "code",
   "execution_count": 14,
   "id": "3409c75a-3ae0-4acd-bbdb-0bd11bd5beeb",
   "metadata": {},
   "outputs": [
    {
     "data": {
      "text/plain": [
       "{'SSC': 1,\n",
       " '12TH': 2,\n",
       " 'GRADUATE': 3,\n",
       " 'UNDER GRADUATE': 3,\n",
       " 'POST-GRADUATE': 4,\n",
       " 'OTHERS': 1,\n",
       " 'PROFESSIONAL': 3}"
      ]
     },
     "execution_count": 14,
     "metadata": {},
     "output_type": "execute_result"
    }
   ],
   "source": [
    "educational_mapping = json.load(open('education_mapping.json','rb'))\n",
    "educational_mapping"
   ]
  },
  {
   "cell_type": "markdown",
   "id": "b1ebe5cf-fed8-4d08-bf30-d6f303aa7c1b",
   "metadata": {},
   "source": [
    "## education mapping "
   ]
  },
  {
   "cell_type": "code",
   "execution_count": 17,
   "id": "8b58cdb4-a9ae-41c3-aa87-3f7b720204b0",
   "metadata": {},
   "outputs": [],
   "source": [
    "unseen_data['EDUCATION'] = unseen_data['EDUCATION'].apply(lambda x : educational_mapping[x])"
   ]
  },
  {
   "cell_type": "markdown",
   "id": "ec9d0970-374a-4f56-8d5c-5be510dbd772",
   "metadata": {},
   "source": [
    "## Categorical columns transformation"
   ]
  },
  {
   "cell_type": "code",
   "execution_count": 34,
   "id": "55a5622e-b67b-46d9-ac81-ca8c14a5a525",
   "metadata": {},
   "outputs": [],
   "source": [
    "encoded_data = pd.get_dummies(unseen_data,catColandLabels.keys())"
   ]
  },
  {
   "cell_type": "code",
   "execution_count": 37,
   "id": "d965fde2-b0e5-4678-a66c-7ce602287c45",
   "metadata": {},
   "outputs": [],
   "source": [
    "merged_data = pd.concat([unseen_data,encoded_data],axis=1)"
   ]
  },
  {
   "cell_type": "code",
   "execution_count": 40,
   "id": "4c144cff-bbe8-4cd4-9d41-171db1b4b744",
   "metadata": {},
   "outputs": [],
   "source": [
    "merged_data.drop(catColandLabels.keys(),axis = 1,inplace=True)"
   ]
  },
  {
   "cell_type": "code",
   "execution_count": null,
   "id": "4c2b2907-d471-4bba-a216-d84dfa40f9c2",
   "metadata": {},
   "outputs": [],
   "source": []
  },
  {
   "cell_type": "code",
   "execution_count": 43,
   "id": "92b7f7cf-74b6-40a0-a08a-738764e06abf",
   "metadata": {},
   "outputs": [],
   "source": [
    "# arranging col in sequence\n",
    "X = merged_data[colNames]"
   ]
  },
  {
   "cell_type": "code",
   "execution_count": null,
   "id": "8838b862-9cdf-435b-9037-26b609e3c1bd",
   "metadata": {},
   "outputs": [],
   "source": [
    "predicted_values  = xgModel.predict(X)"
   ]
  },
  {
   "cell_type": "code",
   "execution_count": null,
   "id": "6cd6c2d5-243e-4920-9664-1d01bb38d138",
   "metadata": {},
   "outputs": [],
   "source": [
    "pd.concat([original_data,predicted_values],axis = 1).to_csv('final_data')"
   ]
  },
  {
   "cell_type": "code",
   "execution_count": null,
   "id": "07f72be4-7e65-433c-a2f5-eae99a7ff207",
   "metadata": {},
   "outputs": [],
   "source": []
  }
 ],
 "metadata": {
  "kernelspec": {
   "display_name": "Python 3 (ipykernel)",
   "language": "python",
   "name": "python3"
  },
  "language_info": {
   "codemirror_mode": {
    "name": "ipython",
    "version": 3
   },
   "file_extension": ".py",
   "mimetype": "text/x-python",
   "name": "python",
   "nbconvert_exporter": "python",
   "pygments_lexer": "ipython3",
   "version": "3.12.2"
  }
 },
 "nbformat": 4,
 "nbformat_minor": 5
}
