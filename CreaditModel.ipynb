{
 "cells": [
  {
   "cell_type": "markdown",
   "id": "72c55a14-eff0-4956-bd35-6f1d9ca7f277",
   "metadata": {
    "id": "72c55a14-eff0-4956-bd35-6f1d9ca7f277"
   },
   "source": [
    "## Problem statment\n",
    "predict whether or not give loan to customer"
   ]
  },
  {
   "cell_type": "markdown",
   "id": "1f9f007c-c225-4027-aa99-5a187487d227",
   "metadata": {
    "id": "1f9f007c-c225-4027-aa99-5a187487d227"
   },
   "source": [
    "# Banking\n",
    "\n",
    "# Asset = Loan product\n",
    "Housing loan\n",
    "Personal loan\n",
    "Vehicle loan\n",
    "Group loan\n",
    "Education loan\n",
    "Credit Card\n",
    "\n",
    "# Liability\n",
    "Current account\n",
    "Savings account\n",
    "(Casa)\n",
    "\n",
    "Fixed deposit\n",
    "Recurring Deposit\n",
    "(Term Deposits)\n",
    "\n",
    "With respect to Bank\n",
    "\n",
    "# NPA\n",
    "NPA = Non Performing Asset (ex vijay maliya)\n",
    "NPA = Loan that is defaulted\n",
    "\n",
    "\n",
    "1. Disbursed Amount = Loan amount given to a customer\n",
    "\n",
    "2. OSP = Out Standing Principle ()\n",
    "1 Lakh loan\n",
    "8000 EMI\n",
    "OSP\n",
    "40000 pay\n",
    "60000 bakaya = Balance = OSP\n",
    "OSP should be zero at the end of loan cycle\n",
    "\n",
    "\n",
    "3. DPD = Days past due\n",
    "DPD = 2\n",
    "DPD ideally zero\n",
    "\n",
    "\"Defaulted\" DPD  > 0\n",
    "\n",
    "\n",
    "4. PAR\n",
    "Portfolio at risk\n",
    "OSP when DPD > 0\n",
    "\n",
    "\n",
    "\n",
    "5. NPA\n",
    "Loan account when DPD > 90 days\n",
    "NPA account\n",
    "\n",
    "NPA types-\n",
    "\n",
    "GNPA = Gross NPA (3-5 %) = OSP dafault\n",
    "NNPA = Net NPA = (0.01 to 0.06 %) = Provisioning Amount subtracted\n",
    "\n",
    "Bank quality assess, GNPA value\n",
    "\n",
    "# Credit Risk Types in Banking\n",
    "\n",
    "DPD (Zero) : NDA (Non delinquint account) = No default account = Timely payment EMI\n",
    "DPD (0 to 30) : SMA1 (Standard Monitoring Account)\n",
    "DPD (31 to 60) : SMA2 (Standard Monitoring Account)\n",
    "DPD (61 to 90) : SMA3 (Standard Monitoring Account)\n",
    "DPD (90 to 180) : NPA\n",
    "\n",
    "DPD (>180) : Writen-off (Loan which is not present, remove from loan DB)\n",
    "\n",
    "written-off to NPA improve = Loan Portfolio quality of the bank will be better = Market sentiment will be good = Stock price will improve\n",
    "\n",
    "\n",
    "TL = Trade line or lones account\n"
   ]
  },
  {
   "cell_type": "code",
   "execution_count": 146,
   "id": "af5610fe-659e-47ca-b97d-3a575e3af933",
   "metadata": {
    "id": "af5610fe-659e-47ca-b97d-3a575e3af933",
    "scrolled": true
   },
   "outputs": [],
   "source": [
    "# !pip install statsmodels sklearn scipy os warnings"
   ]
  },
  {
   "cell_type": "code",
   "execution_count": 5,
   "id": "0e945510-fca6-44f6-aaa5-1e19ddc7bdc5",
   "metadata": {
    "id": "0e945510-fca6-44f6-aaa5-1e19ddc7bdc5"
   },
   "outputs": [],
   "source": [
    "# Import necessary libraries\n",
    "import numpy as np\n",
    "import pandas as pd\n",
    "import matplotlib.pyplot as plt\n",
    "from sklearn.metrics import r2_score\n",
    "from scipy.stats import chi2_contingency\n",
    "from statsmodels.stats.outliers_influence import variance_inflation_factor\n",
    "from sklearn.model_selection import train_test_split\n",
    "from sklearn.ensemble import RandomForestClassifier\n",
    "from sklearn.metrics import accuracy_score, classification_report, precision_recall_fscore_support\n",
    "import warnings\n",
    "import os"
   ]
  },
  {
   "cell_type": "code",
   "execution_count": 6,
   "id": "QnTRkG5H-kHp",
   "metadata": {
    "colab": {
     "base_uri": "https://localhost:8080/"
    },
    "id": "QnTRkG5H-kHp",
    "outputId": "40fcdd61-5c42-4d8c-ef94-e16e4974bdb5"
   },
   "outputs": [
    {
     "name": "stdout",
     "output_type": "stream",
     "text": [
      "Mounted at /content/drive/\n"
     ]
    }
   ],
   "source": [
    "from google.colab import drive\n",
    "drive.mount('/content/drive/')\n",
    "# /content/drive/MyDrive/dataset"
   ]
  },
  {
   "cell_type": "code",
   "execution_count": 6,
   "id": "bOVw0Vui-15i",
   "metadata": {
    "id": "bOVw0Vui-15i"
   },
   "outputs": [],
   "source": []
  },
  {
   "cell_type": "code",
   "execution_count": 7,
   "id": "c04e6c37-65ac-4343-8e57-63e779dcaf56",
   "metadata": {
    "id": "c04e6c37-65ac-4343-8e57-63e779dcaf56"
   },
   "outputs": [],
   "source": [
    "# Load the dataset\n",
    "a1 = pd.read_excel(\"/content/drive/MyDrive/case_study1.xlsx\")\n",
    "a2 = pd.read_excel(\"/content/drive/MyDrive/case_study2.xlsx\")"
   ]
  },
  {
   "cell_type": "code",
   "execution_count": 8,
   "id": "MLQIN3fOEOdg",
   "metadata": {
    "id": "MLQIN3fOEOdg"
   },
   "outputs": [],
   "source": [
    "\n",
    "df1 = a1.copy()\n",
    "df2 = a2.copy()"
   ]
  },
  {
   "cell_type": "code",
   "execution_count": 9,
   "id": "a3a48a56-9084-4511-88bf-37c790d42142",
   "metadata": {
    "colab": {
     "base_uri": "https://localhost:8080/"
    },
    "id": "a3a48a56-9084-4511-88bf-37c790d42142",
    "outputId": "db795351-6f82-4fa8-8d2d-3a8b65748191"
   },
   "outputs": [
    {
     "name": "stdout",
     "output_type": "stream",
     "text": [
      "<class 'pandas.core.frame.DataFrame'>\n",
      "RangeIndex: 51336 entries, 0 to 51335\n",
      "Data columns (total 26 columns):\n",
      " #   Column                Non-Null Count  Dtype  \n",
      "---  ------                --------------  -----  \n",
      " 0   PROSPECTID            51336 non-null  int64  \n",
      " 1   Total_TL              51336 non-null  int64  \n",
      " 2   Tot_Closed_TL         51336 non-null  int64  \n",
      " 3   Tot_Active_TL         51336 non-null  int64  \n",
      " 4   Total_TL_opened_L6M   51336 non-null  int64  \n",
      " 5   Tot_TL_closed_L6M     51336 non-null  int64  \n",
      " 6   pct_tl_open_L6M       51336 non-null  float64\n",
      " 7   pct_tl_closed_L6M     51336 non-null  float64\n",
      " 8   pct_active_tl         51336 non-null  float64\n",
      " 9   pct_closed_tl         51336 non-null  float64\n",
      " 10  Total_TL_opened_L12M  51336 non-null  int64  \n",
      " 11  Tot_TL_closed_L12M    51336 non-null  int64  \n",
      " 12  pct_tl_open_L12M      51336 non-null  float64\n",
      " 13  pct_tl_closed_L12M    51336 non-null  float64\n",
      " 14  Tot_Missed_Pmnt       51336 non-null  int64  \n",
      " 15  Auto_TL               51336 non-null  int64  \n",
      " 16  CC_TL                 51336 non-null  int64  \n",
      " 17  Consumer_TL           51336 non-null  int64  \n",
      " 18  Gold_TL               51336 non-null  int64  \n",
      " 19  Home_TL               51336 non-null  int64  \n",
      " 20  PL_TL                 51336 non-null  int64  \n",
      " 21  Secured_TL            51336 non-null  int64  \n",
      " 22  Unsecured_TL          51336 non-null  int64  \n",
      " 23  Other_TL              51336 non-null  int64  \n",
      " 24  Age_Oldest_TL         51336 non-null  int64  \n",
      " 25  Age_Newest_TL         51336 non-null  int64  \n",
      "dtypes: float64(6), int64(20)\n",
      "memory usage: 10.2 MB\n"
     ]
    }
   ],
   "source": [
    "df1.info()"
   ]
  },
  {
   "cell_type": "code",
   "execution_count": 10,
   "id": "gSCnQilT_-FH",
   "metadata": {
    "colab": {
     "base_uri": "https://localhost:8080/"
    },
    "id": "gSCnQilT_-FH",
    "outputId": "2640e684-a160-4dc8-9afd-6852a365f6c1"
   },
   "outputs": [
    {
     "data": {
      "text/plain": [
       "PROSPECTID               0\n",
       "Total_TL                 0\n",
       "Tot_Closed_TL            0\n",
       "Tot_Active_TL            0\n",
       "Total_TL_opened_L6M      0\n",
       "Tot_TL_closed_L6M        0\n",
       "pct_tl_open_L6M          0\n",
       "pct_tl_closed_L6M        0\n",
       "pct_active_tl            0\n",
       "pct_closed_tl            0\n",
       "Total_TL_opened_L12M     0\n",
       "Tot_TL_closed_L12M       0\n",
       "pct_tl_open_L12M         0\n",
       "pct_tl_closed_L12M       0\n",
       "Tot_Missed_Pmnt          0\n",
       "Auto_TL                  0\n",
       "CC_TL                    0\n",
       "Consumer_TL              0\n",
       "Gold_TL                  0\n",
       "Home_TL                  0\n",
       "PL_TL                    0\n",
       "Secured_TL               0\n",
       "Unsecured_TL             0\n",
       "Other_TL                 0\n",
       "Age_Oldest_TL           40\n",
       "Age_Newest_TL           40\n",
       "dtype: int64"
      ]
     },
     "execution_count": 10,
     "metadata": {},
     "output_type": "execute_result"
    }
   ],
   "source": [
    "df1[df1 == -99999].count()"
   ]
  },
  {
   "cell_type": "code",
   "execution_count": 11,
   "id": "026634c6-cb3f-47d6-b4b4-9299f53923d5",
   "metadata": {
    "id": "026634c6-cb3f-47d6-b4b4-9299f53923d5"
   },
   "outputs": [],
   "source": [
    "# Remove nulls\n",
    "df1 = df1.loc[df1['Age_Oldest_TL'] != -99999]\n",
    "df1 = df1.loc[df1['Age_Newest_TL'] != -99999]\n",
    "# df1.shape"
   ]
  },
  {
   "cell_type": "code",
   "execution_count": 12,
   "id": "2iAwlRiABD88",
   "metadata": {
    "colab": {
     "base_uri": "https://localhost:8080/"
    },
    "id": "2iAwlRiABD88",
    "outputId": "f40672de-5a0f-4f59-d5ac-b84e1b1073ed"
   },
   "outputs": [
    {
     "data": {
      "text/plain": [
       "PROSPECTID                          0\n",
       "time_since_recent_payment        4291\n",
       "time_since_first_deliquency     35949\n",
       "time_since_recent_deliquency    35949\n",
       "num_times_delinquent                0\n",
       "                                ...  \n",
       "GL_Flag                             0\n",
       "last_prod_enq2                      0\n",
       "first_prod_enq2                     0\n",
       "Credit_Score                        0\n",
       "Approved_Flag                       0\n",
       "Length: 62, dtype: int64"
      ]
     },
     "execution_count": 12,
     "metadata": {},
     "output_type": "execute_result"
    }
   ],
   "source": [
    "df2[df2 == -99999].count()"
   ]
  },
  {
   "cell_type": "code",
   "execution_count": 13,
   "id": "0427e226-07cb-4fcd-9df1-df126647a33f",
   "metadata": {
    "id": "0427e226-07cb-4fcd-9df1-df126647a33f"
   },
   "outputs": [],
   "source": [
    "columns_to_be_removed = []\n",
    "threshold = 10000\n",
    "for i in df2.columns:\n",
    "    if df2.loc[df2[i] == -99999].shape[0] > threshold:\n",
    "        columns_to_be_removed .append(i)"
   ]
  },
  {
   "cell_type": "code",
   "execution_count": 14,
   "id": "4e273891-7e30-402a-9ec2-a8c50c1a81df",
   "metadata": {
    "id": "4e273891-7e30-402a-9ec2-a8c50c1a81df"
   },
   "outputs": [],
   "source": [
    "df2 = df2.drop(columns_to_be_removed, axis =1)"
   ]
  },
  {
   "cell_type": "code",
   "execution_count": 15,
   "id": "07caR2BgEaEP",
   "metadata": {
    "colab": {
     "base_uri": "https://localhost:8080/"
    },
    "id": "07caR2BgEaEP",
    "outputId": "a2c8383b-1914-40e9-e6c2-f373fbbc18f2"
   },
   "outputs": [
    {
     "data": {
      "text/plain": [
       "(51336, 54)"
      ]
     },
     "execution_count": 15,
     "metadata": {},
     "output_type": "execute_result"
    }
   ],
   "source": [
    "df2.shape"
   ]
  },
  {
   "cell_type": "code",
   "execution_count": 16,
   "id": "ebd76fdc-f9ff-4917-be0d-c43c0401d878",
   "metadata": {
    "id": "ebd76fdc-f9ff-4917-be0d-c43c0401d878"
   },
   "outputs": [],
   "source": [
    "for i in df2.columns:\n",
    "    df2 = df2.loc[ df2[i] != -99999 ]"
   ]
  },
  {
   "cell_type": "code",
   "execution_count": 17,
   "id": "770614b7-b593-4429-82cd-1131eb8044ef",
   "metadata": {
    "colab": {
     "base_uri": "https://localhost:8080/"
    },
    "id": "770614b7-b593-4429-82cd-1131eb8044ef",
    "outputId": "183937a6-c044-43ac-92f8-902233507baf"
   },
   "outputs": [
    {
     "name": "stdout",
     "output_type": "stream",
     "text": [
      "PROSPECTID\n"
     ]
    }
   ],
   "source": [
    "# Checking common column names\n",
    "for i in list(df1.columns):\n",
    "    if i in list(df2.columns):\n",
    "        print (i)"
   ]
  },
  {
   "cell_type": "code",
   "execution_count": 18,
   "id": "285551b1-b6b4-4987-a75c-14c484fdbeca",
   "metadata": {
    "id": "285551b1-b6b4-4987-a75c-14c484fdbeca"
   },
   "outputs": [],
   "source": [
    "# Merge the two dataframes, inner join so that no nulls are present\n",
    "df = pd.merge ( df1, df2, how ='inner', left_on = ['PROSPECTID'], right_on = ['PROSPECTID'] )"
   ]
  },
  {
   "cell_type": "code",
   "execution_count": 19,
   "id": "f5affe0a-1b57-446f-b8fe-17f3a658f7dc",
   "metadata": {
    "colab": {
     "base_uri": "https://localhost:8080/"
    },
    "id": "f5affe0a-1b57-446f-b8fe-17f3a658f7dc",
    "outputId": "a6259f80-74ba-448c-95ce-5140385e5564"
   },
   "outputs": [
    {
     "name": "stdout",
     "output_type": "stream",
     "text": [
      "MARITALSTATUS\n",
      "EDUCATION\n",
      "GENDER\n",
      "last_prod_enq2\n",
      "first_prod_enq2\n",
      "Approved_Flag\n"
     ]
    }
   ],
   "source": [
    "# check how many columns are categorical\n",
    "for i in df.columns:\n",
    "    if df[i].dtype == 'object':\n",
    "        print(i)"
   ]
  },
  {
   "cell_type": "code",
   "execution_count": 20,
   "id": "ICaDUj3rPz9t",
   "metadata": {
    "colab": {
     "base_uri": "https://localhost:8080/"
    },
    "id": "ICaDUj3rPz9t",
    "outputId": "2619c9d3-3d35-4763-acd2-342a394f045a"
   },
   "outputs": [
    {
     "name": "stdout",
     "output_type": "stream",
     "text": [
      "Approved_Flag    P1     P2    P3    P4\n",
      "MARITALSTATUS                         \n",
      "Married        4435  18718  4387  3346\n",
      "Single          473   6734  2053  1918 \n",
      "\n",
      "Approved_Flag     P1    P2    P3    P4\n",
      "EDUCATION                             \n",
      "12TH            1191  7326  1881  1305\n",
      "GRADUATE        1766  8266  2136  1972\n",
      "OTHERS           310  1401   327   253\n",
      "POST-GRADUATE    304  1114   251   229\n",
      "PROFESSIONAL      44   130    31    14\n",
      "SSC              761  4518  1104   858\n",
      "UNDER GRADUATE   532  2697   710   633 \n",
      "\n",
      "Approved_Flag    P1     P2    P3    P4\n",
      "GENDER                                \n",
      "F               451   2946   744   578\n",
      "M              4457  22506  5696  4686 \n",
      "\n",
      "Approved_Flag     P1    P2    P3    P4\n",
      "last_prod_enq2                        \n",
      "AL               331   842   121    59\n",
      "CC               308  1315   287   285\n",
      "ConsumerLoan    1213  9227  3092  2948\n",
      "HL               237   511    63    19\n",
      "PL               885  4146  1378  1144\n",
      "others          1934  9411  1499   809 \n",
      "\n",
      "Approved_Flag      P1     P2    P3    P4\n",
      "first_prod_enq2                         \n",
      "AL                514   1600   293   234\n",
      "CC                256   1067   302   363\n",
      "ConsumerLoan      652   6609  1980  1834\n",
      "HL                350    735   125    79\n",
      "PL                759   2354   696   622\n",
      "others           2377  13087  3044  2132 \n",
      "\n"
     ]
    }
   ],
   "source": [
    "for i in ['MARITALSTATUS', 'EDUCATION', 'GENDER', 'last_prod_enq2', 'first_prod_enq2']:\n",
    "    print(pd.crosstab(df[i], df['Approved_Flag']),\"\\n\")"
   ]
  },
  {
   "cell_type": "code",
   "execution_count": 21,
   "id": "7c359a38-1813-43d1-9f68-f7a04298bb4d",
   "metadata": {
    "colab": {
     "base_uri": "https://localhost:8080/"
    },
    "id": "7c359a38-1813-43d1-9f68-f7a04298bb4d",
    "outputId": "9c835ffc-daf8-4405-e302-6c0fa50cd8f9"
   },
   "outputs": [
    {
     "name": "stdout",
     "output_type": "stream",
     "text": [
      "MARITALSTATUS --- 3.578180861038862e-233 --- 1076.9871387543772\n",
      "EDUCATION --- 2.6942265249737532e-30 --- 187.81675366240617\n",
      "GENDER --- 1.907936100186563e-05 --- 24.56031272141628\n",
      "last_prod_enq2 --- 0.0 --- 2444.9571510235596\n",
      "first_prod_enq2 --- 7.84997610555419e-287 --- 1387.5609151031795\n"
     ]
    }
   ],
   "source": [
    "# Chi-square test\n",
    "# measure 1 on chi2 value if chi2 val is greater than tab value than have significant diff\n",
    "# measure 2 on pval if pval is lessser than alpha than have significant diff\n",
    "for i in ['MARITALSTATUS', 'EDUCATION', 'GENDER', 'last_prod_enq2', 'first_prod_enq2']:\n",
    "    chi2, pval, _, _ = chi2_contingency(pd.crosstab(df[i], df['Approved_Flag']))\n",
    "    print(i, '---', f\"{pval}\" , \"---\",chi2)"
   ]
  },
  {
   "cell_type": "code",
   "execution_count": 22,
   "id": "ccc1fab4-865e-4a6a-84c4-b924f602d285",
   "metadata": {
    "id": "ccc1fab4-865e-4a6a-84c4-b924f602d285"
   },
   "outputs": [],
   "source": [
    "# Since all the categorical features have pval <=0.05, we will accept all,Ho rejected"
   ]
  },
  {
   "cell_type": "code",
   "execution_count": 23,
   "id": "GxFWykz6L60o",
   "metadata": {
    "id": "GxFWykz6L60o"
   },
   "outputs": [],
   "source": [
    "# VIF for numerical columns\n",
    "numeric_columns = []\n",
    "for i in df.columns:\n",
    "    if df[i].dtype != 'object' and i not in ['PROSPECTID','Approved_Flag']:\n",
    "        numeric_columns.append(i)\n"
   ]
  },
  {
   "cell_type": "code",
   "execution_count": 24,
   "id": "fjo-XIHpNP0j",
   "metadata": {
    "id": "fjo-XIHpNP0j"
   },
   "outputs": [],
   "source": [
    "# VIF sequentially check\n",
    "\n",
    "vif_data = df[numeric_columns]\n",
    "total_columns = vif_data.shape[1]\n",
    "columns_to_be_kept = []\n",
    "column_index = 0"
   ]
  },
  {
   "cell_type": "code",
   "execution_count": 25,
   "id": "GnBO8AP47_xq",
   "metadata": {
    "colab": {
     "base_uri": "https://localhost:8080/"
    },
    "id": "GnBO8AP47_xq",
    "outputId": "4f66156d-9528-4388-b054-452605f306a1"
   },
   "outputs": [
    {
     "data": {
      "text/plain": [
       "72"
      ]
     },
     "execution_count": 25,
     "metadata": {},
     "output_type": "execute_result"
    }
   ],
   "source": [
    "total_columns"
   ]
  },
  {
   "cell_type": "code",
   "execution_count": 26,
   "id": "ZixyTz_4NVh1",
   "metadata": {
    "colab": {
     "base_uri": "https://localhost:8080/"
    },
    "id": "ZixyTz_4NVh1",
    "outputId": "b7cac129-e2c3-4c2a-96ae-093a053f7986"
   },
   "outputs": [
    {
     "name": "stderr",
     "output_type": "stream",
     "text": [
      "/usr/local/lib/python3.10/dist-packages/statsmodels/stats/outliers_influence.py:197: RuntimeWarning: divide by zero encountered in scalar divide\n",
      "  vif = 1. / (1. - r_squared_i)\n"
     ]
    },
    {
     "name": "stdout",
     "output_type": "stream",
     "text": [
      "0 --- inf      0\n"
     ]
    },
    {
     "name": "stderr",
     "output_type": "stream",
     "text": [
      "/usr/local/lib/python3.10/dist-packages/statsmodels/stats/outliers_influence.py:197: RuntimeWarning: divide by zero encountered in scalar divide\n",
      "  vif = 1. / (1. - r_squared_i)\n"
     ]
    },
    {
     "name": "stdout",
     "output_type": "stream",
     "text": [
      "0 --- inf      1\n",
      "0 --- 11.320180023967996      2\n",
      "0 --- 8.363698035000336      3\n",
      "0 --- 6.520647877790928      4\n",
      "0 --- 5.149501618212625      5\n",
      "1 --- 2.611111040579735      6\n"
     ]
    },
    {
     "name": "stderr",
     "output_type": "stream",
     "text": [
      "/usr/local/lib/python3.10/dist-packages/statsmodels/stats/outliers_influence.py:197: RuntimeWarning: divide by zero encountered in scalar divide\n",
      "  vif = 1. / (1. - r_squared_i)\n"
     ]
    },
    {
     "name": "stdout",
     "output_type": "stream",
     "text": [
      "2 --- inf      7\n",
      "2 --- 1788.7926256209232      8\n",
      "2 --- 8.601028256477228      9\n",
      "2 --- 3.832800792153077      10\n",
      "3 --- 6.099653381646723      11\n",
      "3 --- 5.581352009642766      12\n",
      "4 --- 1.985584353098778      13\n"
     ]
    },
    {
     "name": "stderr",
     "output_type": "stream",
     "text": [
      "/usr/local/lib/python3.10/dist-packages/statsmodels/stats/outliers_influence.py:197: RuntimeWarning: divide by zero encountered in scalar divide\n",
      "  vif = 1. / (1. - r_squared_i)\n"
     ]
    },
    {
     "name": "stdout",
     "output_type": "stream",
     "text": [
      "5 --- inf      14\n",
      "5 --- 4.80953830281934      15\n",
      "6 --- 23.270628983464636      16\n",
      "6 --- 30.595522588100053      17\n",
      "6 --- 4.384346405965583      18\n",
      "7 --- 3.0646584155234238      19\n",
      "8 --- 2.898639771299251      20\n",
      "9 --- 4.377876915347324      21\n",
      "10 --- 2.207853583695844      22\n",
      "11 --- 4.916914200506864      23\n",
      "12 --- 5.214702030064725      24\n",
      "13 --- 3.3861625024231476      25\n",
      "14 --- 7.840583309478997      26\n",
      "14 --- 5.255034641721434      27\n"
     ]
    },
    {
     "name": "stderr",
     "output_type": "stream",
     "text": [
      "/usr/local/lib/python3.10/dist-packages/statsmodels/stats/outliers_influence.py:197: RuntimeWarning: divide by zero encountered in scalar divide\n",
      "  vif = 1. / (1. - r_squared_i)\n"
     ]
    },
    {
     "name": "stdout",
     "output_type": "stream",
     "text": [
      "15 --- inf      28\n",
      "15 --- 7.380634506427238      29\n",
      "15 --- 1.4210050015175733      30\n",
      "16 --- 8.083255010190316      31\n",
      "16 --- 1.6241227524040114      32\n",
      "17 --- 7.257811920140003      33\n",
      "17 --- 15.59624383268298      34\n",
      "17 --- 1.825857047132431      35\n",
      "18 --- 1.5080839450032664      36\n",
      "19 --- 2.172088834824578      37\n",
      "20 --- 2.6233975535272274      38\n",
      "21 --- 2.2959970812106176      39\n",
      "22 --- 7.360578319196446      40\n",
      "22 --- 2.1602387773102567      41\n",
      "23 --- 2.8686288267891467      42\n",
      "24 --- 6.458218003637272      43\n",
      "24 --- 2.8474118865638247      44\n",
      "25 --- 4.753198156284083      45\n",
      "26 --- 16.22735475594825      46\n",
      "26 --- 6.424377256363877      47\n",
      "26 --- 8.887080381808678      48\n",
      "26 --- 2.3804746142952653      49\n",
      "27 --- 8.60951347651454      50\n",
      "27 --- 13.06755093547673      51\n",
      "27 --- 3.500040056654653      52\n",
      "28 --- 1.9087955874813773      53\n",
      "29 --- 17.006562234161628      54\n",
      "29 --- 10.730485153719197      55\n",
      "29 --- 2.3538497522950275      56\n",
      "30 --- 22.10485591513649      57\n",
      "30 --- 2.7971639638512924      58\n",
      "31 --- 3.424171203217696      59\n",
      "32 --- 10.175021454450922      60\n",
      "32 --- 6.408710354561292      61\n",
      "32 --- 1.001151196262563      62\n",
      "33 --- 3.069197305397273      63\n",
      "34 --- 2.8091261600643724      64\n",
      "35 --- 20.249538381980678      65\n",
      "35 --- 15.864576541593774      66\n",
      "35 --- 1.833164974053215      67\n",
      "36 --- 1.5680839909542046      68\n",
      "37 --- 1.9307572353811682      69\n",
      "38 --- 4.331265056645244      70\n",
      "39 --- 9.390334396150173      71\n"
     ]
    }
   ],
   "source": [
    "removedCol = []\n",
    "for i in range (0,total_columns):\n",
    "    vif_value = variance_inflation_factor(vif_data, column_index)\n",
    "    print (column_index,'---',vif_value,\"    \",i)\n",
    "\n",
    "    if vif_value <= 6:\n",
    "        columns_to_be_kept.append( numeric_columns[i] )\n",
    "\n",
    "        column_index = column_index+1\n",
    "\n",
    "    else:\n",
    "        removedCol.append((numeric_columns[i],vif_value))\n",
    "        vif_data = vif_data.drop([numeric_columns[i] ] , axis=1)\n",
    "\n"
   ]
  },
  {
   "cell_type": "code",
   "execution_count": 27,
   "id": "Ld9dm-ZtiN0M",
   "metadata": {
    "colab": {
     "base_uri": "https://localhost:8080/"
    },
    "id": "Ld9dm-ZtiN0M",
    "outputId": "f6ae2127-be0a-4f4a-83ae-408133f6c4ca"
   },
   "outputs": [
    {
     "data": {
      "text/plain": [
       "[('Total_TL', inf),\n",
       " ('Tot_Closed_TL', inf),\n",
       " ('Tot_Active_TL', 11.320180023967996),\n",
       " ('Total_TL_opened_L6M', 8.363698035000336),\n",
       " ('Tot_TL_closed_L6M', 6.520647877790928),\n",
       " ('pct_active_tl', inf),\n",
       " ('pct_closed_tl', 1788.7926256209232),\n",
       " ('Total_TL_opened_L12M', 8.601028256477228),\n",
       " ('pct_tl_open_L12M', 6.099653381646723),\n",
       " ('Auto_TL', inf),\n",
       " ('Consumer_TL', 23.270628983464636),\n",
       " ('Gold_TL', 30.595522588100053),\n",
       " ('num_times_delinquent', 7.840583309478997),\n",
       " ('num_deliq_6mts', inf),\n",
       " ('num_deliq_12mts', 7.380634506427238),\n",
       " ('num_times_30p_dpd', 8.083255010190316),\n",
       " ('num_std', 7.257811920140003),\n",
       " ('num_std_6mts', 15.59624383268298),\n",
       " ('num_dbt_6mts', 7.360578319196446),\n",
       " ('num_lss_6mts', 6.458218003637272),\n",
       " ('tot_enq', 16.22735475594825),\n",
       " ('CC_enq', 6.424377256363877),\n",
       " ('CC_enq_L6m', 8.887080381808678),\n",
       " ('PL_enq', 8.60951347651454),\n",
       " ('PL_enq_L6m', 13.06755093547673),\n",
       " ('enq_L12m', 17.006562234161628),\n",
       " ('enq_L6m', 10.730485153719197),\n",
       " ('AGE', 22.10485591513649),\n",
       " ('pct_of_active_TLs_ever', 10.175021454450922),\n",
       " ('pct_opened_TLs_L6m_of_L12m', 6.408710354561292),\n",
       " ('pct_PL_enq_L6m_of_L12m', 20.249538381980678),\n",
       " ('pct_CC_enq_L6m_of_L12m', 15.864576541593774),\n",
       " ('Credit_Score', 9.390334396150173)]"
      ]
     },
     "execution_count": 27,
     "metadata": {},
     "output_type": "execute_result"
    }
   ],
   "source": [
    "removedCol  #removed col name and there VIF"
   ]
  },
  {
   "cell_type": "code",
   "execution_count": 28,
   "id": "NH_l2jEViTPo",
   "metadata": {
    "id": "NH_l2jEViTPo"
   },
   "outputs": [],
   "source": [
    "\n",
    "# check Anova for columns_to_be_kept\n",
    "\n",
    "from scipy.stats import f_oneway\n",
    "\n",
    "columns_to_be_kept_numerical = []\n",
    "\n",
    "for i in columns_to_be_kept:\n",
    "    a = list(df[i])\n",
    "    b = list(df['Approved_Flag'])\n",
    "\n",
    "    group_P1 = [value for value, group in zip(a, b) if group == 'P1']\n",
    "    group_P2 = [value for value, group in zip(a, b) if group == 'P2']\n",
    "    group_P3 = [value for value, group in zip(a, b) if group == 'P3']\n",
    "    group_P4 = [value for value, group in zip(a, b) if group == 'P4']\n",
    "\n",
    "\n",
    "    f_statistic, p_value = f_oneway(group_P1, group_P2, group_P3, group_P4)\n",
    "\n",
    "    if p_value <= 0.05:\n",
    "        columns_to_be_kept_numerical.append(i)"
   ]
  },
  {
   "cell_type": "markdown",
   "id": "ocVeaymzkq_7",
   "metadata": {
    "id": "ocVeaymzkq_7"
   },
   "source": [
    "# feature selection is done for cat and num features\n"
   ]
  },
  {
   "cell_type": "code",
   "execution_count": 29,
   "id": "4WMVNLC6kjIB",
   "metadata": {
    "id": "4WMVNLC6kjIB"
   },
   "outputs": [],
   "source": [
    "# listing all the final features\n",
    "features = columns_to_be_kept_numerical + ['MARITALSTATUS', 'EDUCATION', 'GENDER', 'last_prod_enq2', 'first_prod_enq2']\n",
    "df = df[features + ['Approved_Flag']]"
   ]
  },
  {
   "cell_type": "code",
   "execution_count": 30,
   "id": "X3Q8_xzY8uJA",
   "metadata": {
    "colab": {
     "base_uri": "https://localhost:8080/"
    },
    "id": "X3Q8_xzY8uJA",
    "outputId": "358488d2-1c91-4f0f-f885-9d1cee98ca05"
   },
   "outputs": [
    {
     "data": {
      "text/plain": [
       "['pct_tl_open_L6M',\n",
       " 'pct_tl_closed_L6M',\n",
       " 'Tot_TL_closed_L12M',\n",
       " 'pct_tl_closed_L12M',\n",
       " 'Tot_Missed_Pmnt',\n",
       " 'CC_TL',\n",
       " 'Home_TL',\n",
       " 'PL_TL',\n",
       " 'Secured_TL',\n",
       " 'Unsecured_TL',\n",
       " 'Other_TL',\n",
       " 'Age_Oldest_TL',\n",
       " 'Age_Newest_TL',\n",
       " 'time_since_recent_payment',\n",
       " 'max_recent_level_of_deliq',\n",
       " 'num_deliq_6_12mts',\n",
       " 'num_times_60p_dpd',\n",
       " 'num_std_12mts',\n",
       " 'num_sub',\n",
       " 'num_sub_6mts',\n",
       " 'num_sub_12mts',\n",
       " 'num_dbt',\n",
       " 'num_dbt_12mts',\n",
       " 'num_lss',\n",
       " 'recent_level_of_deliq',\n",
       " 'CC_enq_L12m',\n",
       " 'PL_enq_L12m',\n",
       " 'time_since_recent_enq',\n",
       " 'enq_L3m',\n",
       " 'NETMONTHLYINCOME',\n",
       " 'Time_With_Curr_Empr',\n",
       " 'CC_Flag',\n",
       " 'PL_Flag',\n",
       " 'pct_PL_enq_L6m_of_ever',\n",
       " 'pct_CC_enq_L6m_of_ever',\n",
       " 'HL_Flag',\n",
       " 'GL_Flag',\n",
       " 'MARITALSTATUS',\n",
       " 'EDUCATION',\n",
       " 'GENDER',\n",
       " 'last_prod_enq2',\n",
       " 'first_prod_enq2',\n",
       " 'Approved_Flag']"
      ]
     },
     "execution_count": 30,
     "metadata": {},
     "output_type": "execute_result"
    }
   ],
   "source": [
    "list(df.columns)"
   ]
  },
  {
   "cell_type": "markdown",
   "id": "GqP6lh1o90SY",
   "metadata": {
    "id": "GqP6lh1o90SY"
   },
   "source": [
    "## **# Label encoding for the categorical features**"
   ]
  },
  {
   "cell_type": "code",
   "execution_count": 31,
   "id": "0jYzPgvf5HX6",
   "metadata": {
    "colab": {
     "base_uri": "https://localhost:8080/"
    },
    "id": "0jYzPgvf5HX6",
    "outputId": "ec50becc-65c6-4d76-c97d-b0ff16a14c2f"
   },
   "outputs": [
    {
     "data": {
      "text/plain": [
       "MARITALSTATUS      2\n",
       "EDUCATION          7\n",
       "GENDER             2\n",
       "last_prod_enq2     6\n",
       "first_prod_enq2    6\n",
       "dtype: int64"
      ]
     },
     "execution_count": 31,
     "metadata": {},
     "output_type": "execute_result"
    }
   ],
   "source": [
    "# ['MARITALSTATUS', 'EDUCATION', 'GENDER' , 'last_prod_enq2' ,'first_prod_enq2']\n",
    "\n",
    "df[['MARITALSTATUS', 'EDUCATION', 'GENDER' , 'last_prod_enq2' ,'first_prod_enq2']].nunique()"
   ]
  },
  {
   "cell_type": "code",
   "execution_count": 32,
   "id": "99qvt4QZ5MV9",
   "metadata": {
    "id": "99qvt4QZ5MV9"
   },
   "outputs": [],
   "source": [
    "# Ordinal feature -- EDUCATION\n",
    "# SSC            : 1\n",
    "# 12TH           : 2\n",
    "# GRADUATE       : 3\n",
    "# UNDER GRADUATE : 3\n",
    "# POST-GRADUATE  : 4\n",
    "# OTHERS         : 1\n",
    "# PROFESSIONAL   : 3"
   ]
  },
  {
   "cell_type": "code",
   "execution_count": 33,
   "id": "rT3qoUzL6o2h",
   "metadata": {
    "id": "rT3qoUzL6o2h"
   },
   "outputs": [],
   "source": [
    "df.loc[df['EDUCATION'] == 'SSC',['EDUCATION']]              = 1\n",
    "df.loc[df['EDUCATION'] == '12TH',['EDUCATION']]             = 2\n",
    "df.loc[df['EDUCATION'] == 'GRADUATE',['EDUCATION']]         = 3\n",
    "df.loc[df['EDUCATION'] == 'UNDER GRADUATE',['EDUCATION']]   = 3\n",
    "df.loc[df['EDUCATION'] == 'POST-GRADUATE',['EDUCATION']]    = 4\n",
    "df.loc[df['EDUCATION'] == 'OTHERS',['EDUCATION']]           = 1\n",
    "df.loc[df['EDUCATION'] == 'PROFESSIONAL',['EDUCATION']]     = 3\n"
   ]
  },
  {
   "cell_type": "code",
   "execution_count": 34,
   "id": "IOcdKLwI9FQJ",
   "metadata": {
    "id": "IOcdKLwI9FQJ"
   },
   "outputs": [],
   "source": [
    "# prompt: from the above cell create a dic which have key as value after ==  and value is assignment value\n",
    "\n",
    "education_mapping = {\n",
    "    'SSC': 1,\n",
    "    '12TH': 2,\n",
    "    'GRADUATE': 3,\n",
    "    'UNDER GRADUATE': 3,\n",
    "    'POST-GRADUATE': 4,\n",
    "    'OTHERS': 1,\n",
    "    'PROFESSIONAL': 3\n",
    "}\n"
   ]
  },
  {
   "cell_type": "code",
   "execution_count": 35,
   "id": "zSNsxhLiEZW-",
   "metadata": {
    "id": "zSNsxhLiEZW-"
   },
   "outputs": [],
   "source": [
    "# prompt: export education_mapping as json file\n",
    "\n",
    "import json\n",
    "\n",
    "with open('/content/education_mapping.json', 'w') as f:\n",
    "  json.dump(education_mapping, f)\n"
   ]
  },
  {
   "cell_type": "code",
   "execution_count": 36,
   "id": "embI7XB966S7",
   "metadata": {
    "colab": {
     "base_uri": "https://localhost:8080/"
    },
    "id": "embI7XB966S7",
    "outputId": "8eab5df4-aebe-4c5d-d538-4a134af657b4"
   },
   "outputs": [
    {
     "name": "stdout",
     "output_type": "stream",
     "text": [
      "<class 'pandas.core.frame.DataFrame'>\n",
      "RangeIndex: 42064 entries, 0 to 42063\n",
      "Data columns (total 43 columns):\n",
      " #   Column                     Non-Null Count  Dtype  \n",
      "---  ------                     --------------  -----  \n",
      " 0   pct_tl_open_L6M            42064 non-null  float64\n",
      " 1   pct_tl_closed_L6M          42064 non-null  float64\n",
      " 2   Tot_TL_closed_L12M         42064 non-null  int64  \n",
      " 3   pct_tl_closed_L12M         42064 non-null  float64\n",
      " 4   Tot_Missed_Pmnt            42064 non-null  int64  \n",
      " 5   CC_TL                      42064 non-null  int64  \n",
      " 6   Home_TL                    42064 non-null  int64  \n",
      " 7   PL_TL                      42064 non-null  int64  \n",
      " 8   Secured_TL                 42064 non-null  int64  \n",
      " 9   Unsecured_TL               42064 non-null  int64  \n",
      " 10  Other_TL                   42064 non-null  int64  \n",
      " 11  Age_Oldest_TL              42064 non-null  int64  \n",
      " 12  Age_Newest_TL              42064 non-null  int64  \n",
      " 13  time_since_recent_payment  42064 non-null  int64  \n",
      " 14  max_recent_level_of_deliq  42064 non-null  int64  \n",
      " 15  num_deliq_6_12mts          42064 non-null  int64  \n",
      " 16  num_times_60p_dpd          42064 non-null  int64  \n",
      " 17  num_std_12mts              42064 non-null  int64  \n",
      " 18  num_sub                    42064 non-null  int64  \n",
      " 19  num_sub_6mts               42064 non-null  int64  \n",
      " 20  num_sub_12mts              42064 non-null  int64  \n",
      " 21  num_dbt                    42064 non-null  int64  \n",
      " 22  num_dbt_12mts              42064 non-null  int64  \n",
      " 23  num_lss                    42064 non-null  int64  \n",
      " 24  recent_level_of_deliq      42064 non-null  int64  \n",
      " 25  CC_enq_L12m                42064 non-null  int64  \n",
      " 26  PL_enq_L12m                42064 non-null  int64  \n",
      " 27  time_since_recent_enq      42064 non-null  int64  \n",
      " 28  enq_L3m                    42064 non-null  int64  \n",
      " 29  NETMONTHLYINCOME           42064 non-null  int64  \n",
      " 30  Time_With_Curr_Empr        42064 non-null  int64  \n",
      " 31  CC_Flag                    42064 non-null  int64  \n",
      " 32  PL_Flag                    42064 non-null  int64  \n",
      " 33  pct_PL_enq_L6m_of_ever     42064 non-null  float64\n",
      " 34  pct_CC_enq_L6m_of_ever     42064 non-null  float64\n",
      " 35  HL_Flag                    42064 non-null  int64  \n",
      " 36  GL_Flag                    42064 non-null  int64  \n",
      " 37  MARITALSTATUS              42064 non-null  object \n",
      " 38  EDUCATION                  42064 non-null  int64  \n",
      " 39  GENDER                     42064 non-null  object \n",
      " 40  last_prod_enq2             42064 non-null  object \n",
      " 41  first_prod_enq2            42064 non-null  object \n",
      " 42  Approved_Flag              42064 non-null  object \n",
      "dtypes: float64(5), int64(33), object(5)\n",
      "memory usage: 13.8+ MB\n"
     ]
    },
    {
     "name": "stderr",
     "output_type": "stream",
     "text": [
      "<ipython-input-36-c1e7fd256653>:2: SettingWithCopyWarning: \n",
      "A value is trying to be set on a copy of a slice from a DataFrame.\n",
      "Try using .loc[row_indexer,col_indexer] = value instead\n",
      "\n",
      "See the caveats in the documentation: https://pandas.pydata.org/pandas-docs/stable/user_guide/indexing.html#returning-a-view-versus-a-copy\n",
      "  df['EDUCATION'] = df['EDUCATION'].astype(int)\n"
     ]
    }
   ],
   "source": [
    "df['EDUCATION'].value_counts()\n",
    "df['EDUCATION'] = df['EDUCATION'].astype(int)\n",
    "df.info()"
   ]
  },
  {
   "cell_type": "code",
   "execution_count": 37,
   "id": "U2-CfRHAAFT4",
   "metadata": {
    "id": "U2-CfRHAAFT4"
   },
   "outputs": [],
   "source": [
    "labels = dict()\n",
    "for i in ['MARITALSTATUS','GENDER', 'last_prod_enq2' ,'first_prod_enq2']:\n",
    "  labels[i] = list(df[i].unique()\n",
    ")"
   ]
  },
  {
   "cell_type": "code",
   "execution_count": 38,
   "id": "WSzaNKWLAncE",
   "metadata": {
    "colab": {
     "base_uri": "https://localhost:8080/"
    },
    "id": "WSzaNKWLAncE",
    "outputId": "320a5f80-e3ab-4948-96c9-ab01e8469f30"
   },
   "outputs": [
    {
     "data": {
      "text/plain": [
       "{'MARITALSTATUS': ['Married', 'Single'],\n",
       " 'GENDER': ['M', 'F'],\n",
       " 'last_prod_enq2': ['PL', 'ConsumerLoan', 'AL', 'CC', 'others', 'HL'],\n",
       " 'first_prod_enq2': ['PL', 'ConsumerLoan', 'others', 'AL', 'HL', 'CC']}"
      ]
     },
     "execution_count": 38,
     "metadata": {},
     "output_type": "execute_result"
    }
   ],
   "source": [
    "# list(df['MARITALSTATUS'].unique())\n",
    "labels"
   ]
  },
  {
   "cell_type": "code",
   "execution_count": 39,
   "id": "z2FNHiTKAdlj",
   "metadata": {
    "id": "z2FNHiTKAdlj"
   },
   "outputs": [],
   "source": [
    "# prompt: write a code to save labels dictionary in json file\n",
    "\n",
    "import json\n",
    "\n",
    "with open('/content/drive/My Drive/CatColumnsAndlabels.json', 'w') as f:\n",
    "  json.dump(labels, f)\n"
   ]
  },
  {
   "cell_type": "code",
   "execution_count": 40,
   "id": "Ai-1d1Dq9vMG",
   "metadata": {
    "colab": {
     "base_uri": "https://localhost:8080/"
    },
    "id": "Ai-1d1Dq9vMG",
    "outputId": "5883b1a5-05e6-487d-ef7b-e6b401d60a48"
   },
   "outputs": [
    {
     "data": {
      "text/plain": [
       "{'MARITALSTATUS': ['Married', 'Single'],\n",
       " 'GENDER': ['M', 'F'],\n",
       " 'last_prod_enq2': ['PL', 'ConsumerLoan', 'AL', 'CC', 'others', 'HL'],\n",
       " 'first_prod_enq2': ['PL', 'ConsumerLoan', 'others', 'AL', 'HL', 'CC']}"
      ]
     },
     "execution_count": 40,
     "metadata": {},
     "output_type": "execute_result"
    }
   ],
   "source": [
    "import json\n",
    "\n",
    "# Open the JSON file\n",
    "with open('/content/drive/My Drive/CatColumnsAndlabels.json', 'r') as f:\n",
    "  data = json.load(f)\n",
    "\n",
    "# Store the values in a dictionary\n",
    "labels = data\n",
    "labels\n"
   ]
  },
  {
   "cell_type": "code",
   "execution_count": 41,
   "id": "MMf4Rhwa7Abe",
   "metadata": {
    "colab": {
     "base_uri": "https://localhost:8080/",
     "height": 255
    },
    "id": "MMf4Rhwa7Abe",
    "outputId": "31af0bec-5b4a-4f02-ba0b-a2b93e006145"
   },
   "outputs": [
    {
     "data": {
      "application/vnd.google.colaboratory.intrinsic+json": {
       "type": "dataframe",
       "variable_name": "df_encoded"
      },
      "text/html": [
       "\n",
       "  <div id=\"df-7e111f4e-3ce5-4cba-9e49-1ead908970f9\" class=\"colab-df-container\">\n",
       "    <div>\n",
       "<style scoped>\n",
       "    .dataframe tbody tr th:only-of-type {\n",
       "        vertical-align: middle;\n",
       "    }\n",
       "\n",
       "    .dataframe tbody tr th {\n",
       "        vertical-align: top;\n",
       "    }\n",
       "\n",
       "    .dataframe thead th {\n",
       "        text-align: right;\n",
       "    }\n",
       "</style>\n",
       "<table border=\"1\" class=\"dataframe\">\n",
       "  <thead>\n",
       "    <tr style=\"text-align: right;\">\n",
       "      <th></th>\n",
       "      <th>pct_tl_open_L6M</th>\n",
       "      <th>pct_tl_closed_L6M</th>\n",
       "      <th>Tot_TL_closed_L12M</th>\n",
       "      <th>pct_tl_closed_L12M</th>\n",
       "      <th>Tot_Missed_Pmnt</th>\n",
       "      <th>CC_TL</th>\n",
       "      <th>Home_TL</th>\n",
       "      <th>PL_TL</th>\n",
       "      <th>Secured_TL</th>\n",
       "      <th>Unsecured_TL</th>\n",
       "      <th>...</th>\n",
       "      <th>last_prod_enq2_ConsumerLoan</th>\n",
       "      <th>last_prod_enq2_HL</th>\n",
       "      <th>last_prod_enq2_PL</th>\n",
       "      <th>last_prod_enq2_others</th>\n",
       "      <th>first_prod_enq2_AL</th>\n",
       "      <th>first_prod_enq2_CC</th>\n",
       "      <th>first_prod_enq2_ConsumerLoan</th>\n",
       "      <th>first_prod_enq2_HL</th>\n",
       "      <th>first_prod_enq2_PL</th>\n",
       "      <th>first_prod_enq2_others</th>\n",
       "    </tr>\n",
       "  </thead>\n",
       "  <tbody>\n",
       "    <tr>\n",
       "      <th>0</th>\n",
       "      <td>0.000</td>\n",
       "      <td>0.0</td>\n",
       "      <td>0</td>\n",
       "      <td>0.000</td>\n",
       "      <td>0</td>\n",
       "      <td>0</td>\n",
       "      <td>0</td>\n",
       "      <td>4</td>\n",
       "      <td>1</td>\n",
       "      <td>4</td>\n",
       "      <td>...</td>\n",
       "      <td>False</td>\n",
       "      <td>False</td>\n",
       "      <td>True</td>\n",
       "      <td>False</td>\n",
       "      <td>False</td>\n",
       "      <td>False</td>\n",
       "      <td>False</td>\n",
       "      <td>False</td>\n",
       "      <td>True</td>\n",
       "      <td>False</td>\n",
       "    </tr>\n",
       "    <tr>\n",
       "      <th>1</th>\n",
       "      <td>0.000</td>\n",
       "      <td>0.0</td>\n",
       "      <td>0</td>\n",
       "      <td>0.000</td>\n",
       "      <td>0</td>\n",
       "      <td>0</td>\n",
       "      <td>0</td>\n",
       "      <td>0</td>\n",
       "      <td>0</td>\n",
       "      <td>1</td>\n",
       "      <td>...</td>\n",
       "      <td>True</td>\n",
       "      <td>False</td>\n",
       "      <td>False</td>\n",
       "      <td>False</td>\n",
       "      <td>False</td>\n",
       "      <td>False</td>\n",
       "      <td>True</td>\n",
       "      <td>False</td>\n",
       "      <td>False</td>\n",
       "      <td>False</td>\n",
       "    </tr>\n",
       "    <tr>\n",
       "      <th>2</th>\n",
       "      <td>0.125</td>\n",
       "      <td>0.0</td>\n",
       "      <td>0</td>\n",
       "      <td>0.000</td>\n",
       "      <td>1</td>\n",
       "      <td>0</td>\n",
       "      <td>0</td>\n",
       "      <td>0</td>\n",
       "      <td>2</td>\n",
       "      <td>6</td>\n",
       "      <td>...</td>\n",
       "      <td>True</td>\n",
       "      <td>False</td>\n",
       "      <td>False</td>\n",
       "      <td>False</td>\n",
       "      <td>False</td>\n",
       "      <td>False</td>\n",
       "      <td>False</td>\n",
       "      <td>False</td>\n",
       "      <td>False</td>\n",
       "      <td>True</td>\n",
       "    </tr>\n",
       "    <tr>\n",
       "      <th>3</th>\n",
       "      <td>0.000</td>\n",
       "      <td>0.0</td>\n",
       "      <td>0</td>\n",
       "      <td>0.000</td>\n",
       "      <td>0</td>\n",
       "      <td>0</td>\n",
       "      <td>0</td>\n",
       "      <td>0</td>\n",
       "      <td>3</td>\n",
       "      <td>0</td>\n",
       "      <td>...</td>\n",
       "      <td>False</td>\n",
       "      <td>False</td>\n",
       "      <td>False</td>\n",
       "      <td>False</td>\n",
       "      <td>True</td>\n",
       "      <td>False</td>\n",
       "      <td>False</td>\n",
       "      <td>False</td>\n",
       "      <td>False</td>\n",
       "      <td>False</td>\n",
       "    </tr>\n",
       "    <tr>\n",
       "      <th>4</th>\n",
       "      <td>0.000</td>\n",
       "      <td>0.0</td>\n",
       "      <td>1</td>\n",
       "      <td>0.167</td>\n",
       "      <td>0</td>\n",
       "      <td>0</td>\n",
       "      <td>0</td>\n",
       "      <td>0</td>\n",
       "      <td>6</td>\n",
       "      <td>0</td>\n",
       "      <td>...</td>\n",
       "      <td>True</td>\n",
       "      <td>False</td>\n",
       "      <td>False</td>\n",
       "      <td>False</td>\n",
       "      <td>False</td>\n",
       "      <td>False</td>\n",
       "      <td>False</td>\n",
       "      <td>False</td>\n",
       "      <td>True</td>\n",
       "      <td>False</td>\n",
       "    </tr>\n",
       "  </tbody>\n",
       "</table>\n",
       "<p>5 rows × 55 columns</p>\n",
       "</div>\n",
       "    <div class=\"colab-df-buttons\">\n",
       "\n",
       "  <div class=\"colab-df-container\">\n",
       "    <button class=\"colab-df-convert\" onclick=\"convertToInteractive('df-7e111f4e-3ce5-4cba-9e49-1ead908970f9')\"\n",
       "            title=\"Convert this dataframe to an interactive table.\"\n",
       "            style=\"display:none;\">\n",
       "\n",
       "  <svg xmlns=\"http://www.w3.org/2000/svg\" height=\"24px\" viewBox=\"0 -960 960 960\">\n",
       "    <path d=\"M120-120v-720h720v720H120Zm60-500h600v-160H180v160Zm220 220h160v-160H400v160Zm0 220h160v-160H400v160ZM180-400h160v-160H180v160Zm440 0h160v-160H620v160ZM180-180h160v-160H180v160Zm440 0h160v-160H620v160Z\"/>\n",
       "  </svg>\n",
       "    </button>\n",
       "\n",
       "  <style>\n",
       "    .colab-df-container {\n",
       "      display:flex;\n",
       "      gap: 12px;\n",
       "    }\n",
       "\n",
       "    .colab-df-convert {\n",
       "      background-color: #E8F0FE;\n",
       "      border: none;\n",
       "      border-radius: 50%;\n",
       "      cursor: pointer;\n",
       "      display: none;\n",
       "      fill: #1967D2;\n",
       "      height: 32px;\n",
       "      padding: 0 0 0 0;\n",
       "      width: 32px;\n",
       "    }\n",
       "\n",
       "    .colab-df-convert:hover {\n",
       "      background-color: #E2EBFA;\n",
       "      box-shadow: 0px 1px 2px rgba(60, 64, 67, 0.3), 0px 1px 3px 1px rgba(60, 64, 67, 0.15);\n",
       "      fill: #174EA6;\n",
       "    }\n",
       "\n",
       "    .colab-df-buttons div {\n",
       "      margin-bottom: 4px;\n",
       "    }\n",
       "\n",
       "    [theme=dark] .colab-df-convert {\n",
       "      background-color: #3B4455;\n",
       "      fill: #D2E3FC;\n",
       "    }\n",
       "\n",
       "    [theme=dark] .colab-df-convert:hover {\n",
       "      background-color: #434B5C;\n",
       "      box-shadow: 0px 1px 3px 1px rgba(0, 0, 0, 0.15);\n",
       "      filter: drop-shadow(0px 1px 2px rgba(0, 0, 0, 0.3));\n",
       "      fill: #FFFFFF;\n",
       "    }\n",
       "  </style>\n",
       "\n",
       "    <script>\n",
       "      const buttonEl =\n",
       "        document.querySelector('#df-7e111f4e-3ce5-4cba-9e49-1ead908970f9 button.colab-df-convert');\n",
       "      buttonEl.style.display =\n",
       "        google.colab.kernel.accessAllowed ? 'block' : 'none';\n",
       "\n",
       "      async function convertToInteractive(key) {\n",
       "        const element = document.querySelector('#df-7e111f4e-3ce5-4cba-9e49-1ead908970f9');\n",
       "        const dataTable =\n",
       "          await google.colab.kernel.invokeFunction('convertToInteractive',\n",
       "                                                    [key], {});\n",
       "        if (!dataTable) return;\n",
       "\n",
       "        const docLinkHtml = 'Like what you see? Visit the ' +\n",
       "          '<a target=\"_blank\" href=https://colab.research.google.com/notebooks/data_table.ipynb>data table notebook</a>'\n",
       "          + ' to learn more about interactive tables.';\n",
       "        element.innerHTML = '';\n",
       "        dataTable['output_type'] = 'display_data';\n",
       "        await google.colab.output.renderOutput(dataTable, element);\n",
       "        const docLink = document.createElement('div');\n",
       "        docLink.innerHTML = docLinkHtml;\n",
       "        element.appendChild(docLink);\n",
       "      }\n",
       "    </script>\n",
       "  </div>\n",
       "\n",
       "\n",
       "<div id=\"df-10988357-7ca9-4f52-a837-65a581453750\">\n",
       "  <button class=\"colab-df-quickchart\" onclick=\"quickchart('df-10988357-7ca9-4f52-a837-65a581453750')\"\n",
       "            title=\"Suggest charts\"\n",
       "            style=\"display:none;\">\n",
       "\n",
       "<svg xmlns=\"http://www.w3.org/2000/svg\" height=\"24px\"viewBox=\"0 0 24 24\"\n",
       "     width=\"24px\">\n",
       "    <g>\n",
       "        <path d=\"M19 3H5c-1.1 0-2 .9-2 2v14c0 1.1.9 2 2 2h14c1.1 0 2-.9 2-2V5c0-1.1-.9-2-2-2zM9 17H7v-7h2v7zm4 0h-2V7h2v10zm4 0h-2v-4h2v4z\"/>\n",
       "    </g>\n",
       "</svg>\n",
       "  </button>\n",
       "\n",
       "<style>\n",
       "  .colab-df-quickchart {\n",
       "      --bg-color: #E8F0FE;\n",
       "      --fill-color: #1967D2;\n",
       "      --hover-bg-color: #E2EBFA;\n",
       "      --hover-fill-color: #174EA6;\n",
       "      --disabled-fill-color: #AAA;\n",
       "      --disabled-bg-color: #DDD;\n",
       "  }\n",
       "\n",
       "  [theme=dark] .colab-df-quickchart {\n",
       "      --bg-color: #3B4455;\n",
       "      --fill-color: #D2E3FC;\n",
       "      --hover-bg-color: #434B5C;\n",
       "      --hover-fill-color: #FFFFFF;\n",
       "      --disabled-bg-color: #3B4455;\n",
       "      --disabled-fill-color: #666;\n",
       "  }\n",
       "\n",
       "  .colab-df-quickchart {\n",
       "    background-color: var(--bg-color);\n",
       "    border: none;\n",
       "    border-radius: 50%;\n",
       "    cursor: pointer;\n",
       "    display: none;\n",
       "    fill: var(--fill-color);\n",
       "    height: 32px;\n",
       "    padding: 0;\n",
       "    width: 32px;\n",
       "  }\n",
       "\n",
       "  .colab-df-quickchart:hover {\n",
       "    background-color: var(--hover-bg-color);\n",
       "    box-shadow: 0 1px 2px rgba(60, 64, 67, 0.3), 0 1px 3px 1px rgba(60, 64, 67, 0.15);\n",
       "    fill: var(--button-hover-fill-color);\n",
       "  }\n",
       "\n",
       "  .colab-df-quickchart-complete:disabled,\n",
       "  .colab-df-quickchart-complete:disabled:hover {\n",
       "    background-color: var(--disabled-bg-color);\n",
       "    fill: var(--disabled-fill-color);\n",
       "    box-shadow: none;\n",
       "  }\n",
       "\n",
       "  .colab-df-spinner {\n",
       "    border: 2px solid var(--fill-color);\n",
       "    border-color: transparent;\n",
       "    border-bottom-color: var(--fill-color);\n",
       "    animation:\n",
       "      spin 1s steps(1) infinite;\n",
       "  }\n",
       "\n",
       "  @keyframes spin {\n",
       "    0% {\n",
       "      border-color: transparent;\n",
       "      border-bottom-color: var(--fill-color);\n",
       "      border-left-color: var(--fill-color);\n",
       "    }\n",
       "    20% {\n",
       "      border-color: transparent;\n",
       "      border-left-color: var(--fill-color);\n",
       "      border-top-color: var(--fill-color);\n",
       "    }\n",
       "    30% {\n",
       "      border-color: transparent;\n",
       "      border-left-color: var(--fill-color);\n",
       "      border-top-color: var(--fill-color);\n",
       "      border-right-color: var(--fill-color);\n",
       "    }\n",
       "    40% {\n",
       "      border-color: transparent;\n",
       "      border-right-color: var(--fill-color);\n",
       "      border-top-color: var(--fill-color);\n",
       "    }\n",
       "    60% {\n",
       "      border-color: transparent;\n",
       "      border-right-color: var(--fill-color);\n",
       "    }\n",
       "    80% {\n",
       "      border-color: transparent;\n",
       "      border-right-color: var(--fill-color);\n",
       "      border-bottom-color: var(--fill-color);\n",
       "    }\n",
       "    90% {\n",
       "      border-color: transparent;\n",
       "      border-bottom-color: var(--fill-color);\n",
       "    }\n",
       "  }\n",
       "</style>\n",
       "\n",
       "  <script>\n",
       "    async function quickchart(key) {\n",
       "      const quickchartButtonEl =\n",
       "        document.querySelector('#' + key + ' button');\n",
       "      quickchartButtonEl.disabled = true;  // To prevent multiple clicks.\n",
       "      quickchartButtonEl.classList.add('colab-df-spinner');\n",
       "      try {\n",
       "        const charts = await google.colab.kernel.invokeFunction(\n",
       "            'suggestCharts', [key], {});\n",
       "      } catch (error) {\n",
       "        console.error('Error during call to suggestCharts:', error);\n",
       "      }\n",
       "      quickchartButtonEl.classList.remove('colab-df-spinner');\n",
       "      quickchartButtonEl.classList.add('colab-df-quickchart-complete');\n",
       "    }\n",
       "    (() => {\n",
       "      let quickchartButtonEl =\n",
       "        document.querySelector('#df-10988357-7ca9-4f52-a837-65a581453750 button');\n",
       "      quickchartButtonEl.style.display =\n",
       "        google.colab.kernel.accessAllowed ? 'block' : 'none';\n",
       "    })();\n",
       "  </script>\n",
       "</div>\n",
       "\n",
       "    </div>\n",
       "  </div>\n"
      ],
      "text/plain": [
       "   pct_tl_open_L6M  pct_tl_closed_L6M  Tot_TL_closed_L12M  pct_tl_closed_L12M  \\\n",
       "0            0.000                0.0                   0               0.000   \n",
       "1            0.000                0.0                   0               0.000   \n",
       "2            0.125                0.0                   0               0.000   \n",
       "3            0.000                0.0                   0               0.000   \n",
       "4            0.000                0.0                   1               0.167   \n",
       "\n",
       "   Tot_Missed_Pmnt  CC_TL  Home_TL  PL_TL  Secured_TL  Unsecured_TL  ...  \\\n",
       "0                0      0        0      4           1             4  ...   \n",
       "1                0      0        0      0           0             1  ...   \n",
       "2                1      0        0      0           2             6  ...   \n",
       "3                0      0        0      0           3             0  ...   \n",
       "4                0      0        0      0           6             0  ...   \n",
       "\n",
       "   last_prod_enq2_ConsumerLoan  last_prod_enq2_HL  last_prod_enq2_PL  \\\n",
       "0                        False              False               True   \n",
       "1                         True              False              False   \n",
       "2                         True              False              False   \n",
       "3                        False              False              False   \n",
       "4                         True              False              False   \n",
       "\n",
       "   last_prod_enq2_others  first_prod_enq2_AL  first_prod_enq2_CC  \\\n",
       "0                  False               False               False   \n",
       "1                  False               False               False   \n",
       "2                  False               False               False   \n",
       "3                  False                True               False   \n",
       "4                  False               False               False   \n",
       "\n",
       "   first_prod_enq2_ConsumerLoan  first_prod_enq2_HL  first_prod_enq2_PL  \\\n",
       "0                         False               False                True   \n",
       "1                          True               False               False   \n",
       "2                         False               False               False   \n",
       "3                         False               False               False   \n",
       "4                         False               False                True   \n",
       "\n",
       "   first_prod_enq2_others  \n",
       "0                   False  \n",
       "1                   False  \n",
       "2                    True  \n",
       "3                   False  \n",
       "4                   False  \n",
       "\n",
       "[5 rows x 55 columns]"
      ]
     },
     "execution_count": 41,
     "metadata": {},
     "output_type": "execute_result"
    }
   ],
   "source": [
    "# getting OHE data for Nominal data\n",
    "df_encoded = pd.get_dummies(df, columns=['MARITALSTATUS','GENDER', 'last_prod_enq2' ,'first_prod_enq2'])\n",
    "df_encoded.head()"
   ]
  },
  {
   "cell_type": "code",
   "execution_count": 42,
   "id": "8s8LpnvZfrLd",
   "metadata": {
    "colab": {
     "base_uri": "https://localhost:8080/"
    },
    "id": "8s8LpnvZfrLd",
    "outputId": "655a4cdf-37df-4240-f659-e3ad21ca936e"
   },
   "outputs": [
    {
     "data": {
      "text/plain": [
       "Index(['pct_tl_open_L6M', 'pct_tl_closed_L6M', 'Tot_TL_closed_L12M',\n",
       "       'pct_tl_closed_L12M', 'Tot_Missed_Pmnt', 'CC_TL', 'Home_TL', 'PL_TL',\n",
       "       'Secured_TL', 'Unsecured_TL', 'Other_TL', 'Age_Oldest_TL',\n",
       "       'Age_Newest_TL', 'time_since_recent_payment',\n",
       "       'max_recent_level_of_deliq', 'num_deliq_6_12mts', 'num_times_60p_dpd',\n",
       "       'num_std_12mts', 'num_sub', 'num_sub_6mts', 'num_sub_12mts', 'num_dbt',\n",
       "       'num_dbt_12mts', 'num_lss', 'recent_level_of_deliq', 'CC_enq_L12m',\n",
       "       'PL_enq_L12m', 'time_since_recent_enq', 'enq_L3m', 'NETMONTHLYINCOME',\n",
       "       'Time_With_Curr_Empr', 'CC_Flag', 'PL_Flag', 'pct_PL_enq_L6m_of_ever',\n",
       "       'pct_CC_enq_L6m_of_ever', 'HL_Flag', 'GL_Flag', 'EDUCATION',\n",
       "       'Approved_Flag', 'MARITALSTATUS_Married', 'MARITALSTATUS_Single',\n",
       "       'GENDER_F', 'GENDER_M', 'last_prod_enq2_AL', 'last_prod_enq2_CC',\n",
       "       'last_prod_enq2_ConsumerLoan', 'last_prod_enq2_HL', 'last_prod_enq2_PL',\n",
       "       'last_prod_enq2_others', 'first_prod_enq2_AL', 'first_prod_enq2_CC',\n",
       "       'first_prod_enq2_ConsumerLoan', 'first_prod_enq2_HL',\n",
       "       'first_prod_enq2_PL', 'first_prod_enq2_others'],\n",
       "      dtype='object')"
      ]
     },
     "execution_count": 42,
     "metadata": {},
     "output_type": "execute_result"
    }
   ],
   "source": [
    "df_encoded.columns = df_encoded.columns.str.lstrip('_')\n",
    "df_encoded.columns"
   ]
  },
  {
   "cell_type": "markdown",
   "id": "OFmK_NzQ_Iv-",
   "metadata": {
    "id": "OFmK_NzQ_Iv-"
   },
   "source": [
    "# **Machine Learing model fitting**"
   ]
  },
  {
   "cell_type": "code",
   "execution_count": 43,
   "id": "YKYicdYBAaId",
   "metadata": {
    "id": "YKYicdYBAaId"
   },
   "outputs": [],
   "source": [
    "y = df_encoded['Approved_Flag']\n",
    "x = df_encoded. drop ( ['Approved_Flag'], axis = 1 )\n",
    "\n",
    "\n",
    "x_train, x_test, y_train, y_test = train_test_split(x, y, test_size=0.2, random_state=42)"
   ]
  },
  {
   "cell_type": "code",
   "execution_count": 44,
   "id": "1nKt3LGD_YgY",
   "metadata": {
    "id": "1nKt3LGD_YgY"
   },
   "outputs": [],
   "source": [
    "import pickle\n",
    "finalColumnsName = x.columns\n",
    "with open('/content/drive/MyDrive/finalColumnsName.pkl', 'wb') as f:\n",
    "    pickle.dump(finalColumnsName, f)"
   ]
  },
  {
   "cell_type": "code",
   "execution_count": 45,
   "id": "CGuWNCF1AU-r",
   "metadata": {
    "colab": {
     "base_uri": "https://localhost:8080/"
    },
    "id": "CGuWNCF1AU-r",
    "outputId": "4f0d9df4-1bc7-449e-8c67-feae286fc130"
   },
   "outputs": [
    {
     "data": {
      "text/plain": [
       "Index(['pct_tl_open_L6M', 'pct_tl_closed_L6M', 'Tot_TL_closed_L12M',\n",
       "       'pct_tl_closed_L12M', 'Tot_Missed_Pmnt', 'CC_TL', 'Home_TL', 'PL_TL',\n",
       "       'Secured_TL', 'Unsecured_TL', 'Other_TL', 'Age_Oldest_TL',\n",
       "       'Age_Newest_TL', 'time_since_recent_payment',\n",
       "       'max_recent_level_of_deliq', 'num_deliq_6_12mts', 'num_times_60p_dpd',\n",
       "       'num_std_12mts', 'num_sub', 'num_sub_6mts', 'num_sub_12mts', 'num_dbt',\n",
       "       'num_dbt_12mts', 'num_lss', 'recent_level_of_deliq', 'CC_enq_L12m',\n",
       "       'PL_enq_L12m', 'time_since_recent_enq', 'enq_L3m', 'NETMONTHLYINCOME',\n",
       "       'Time_With_Curr_Empr', 'CC_Flag', 'PL_Flag', 'pct_PL_enq_L6m_of_ever',\n",
       "       'pct_CC_enq_L6m_of_ever', 'HL_Flag', 'GL_Flag', 'EDUCATION',\n",
       "       'MARITALSTATUS_Married', 'MARITALSTATUS_Single', 'GENDER_F', 'GENDER_M',\n",
       "       'last_prod_enq2_AL', 'last_prod_enq2_CC', 'last_prod_enq2_ConsumerLoan',\n",
       "       'last_prod_enq2_HL', 'last_prod_enq2_PL', 'last_prod_enq2_others',\n",
       "       'first_prod_enq2_AL', 'first_prod_enq2_CC',\n",
       "       'first_prod_enq2_ConsumerLoan', 'first_prod_enq2_HL',\n",
       "       'first_prod_enq2_PL', 'first_prod_enq2_others'],\n",
       "      dtype='object')"
      ]
     },
     "execution_count": 45,
     "metadata": {},
     "output_type": "execute_result"
    }
   ],
   "source": [
    "with open('/content/drive/MyDrive/finalColumnsName.pkl', 'rb') as f:\n",
    "    finalColumnsName = pickle.load(f)\n",
    "finalColumnsName"
   ]
  },
  {
   "cell_type": "code",
   "execution_count": 46,
   "id": "Oz-NYQPIAerp",
   "metadata": {
    "colab": {
     "base_uri": "https://localhost:8080/"
    },
    "id": "Oz-NYQPIAerp",
    "outputId": "f9d5a8c0-683c-4130-873d-97f854de9bd4"
   },
   "outputs": [
    {
     "data": {
      "text/plain": [
       "(54,)"
      ]
     },
     "execution_count": 46,
     "metadata": {},
     "output_type": "execute_result"
    }
   ],
   "source": [
    "finalColumnsName.shape"
   ]
  },
  {
   "cell_type": "code",
   "execution_count": 47,
   "id": "74tz38Fx8K7N",
   "metadata": {
    "colab": {
     "base_uri": "https://localhost:8080/"
    },
    "id": "74tz38Fx8K7N",
    "outputId": "c2c4f610-daed-490f-aa3c-5a11f1565b79"
   },
   "outputs": [
    {
     "name": "stdout",
     "output_type": "stream",
     "text": [
      "\n",
      "Accuracy: 0.7636990372043266\n",
      "\n",
      "Class p1:\n",
      "Precision: 0.8370457209847597\n",
      "Recall: 0.7041420118343196\n",
      "F1 Score: 0.7648634172469203\n",
      "\n",
      "Class p2:\n",
      "Precision: 0.7957519116397621\n",
      "Recall: 0.9282457879088206\n",
      "F1 Score: 0.8569075937785909\n",
      "\n",
      "Class p3:\n",
      "Precision: 0.4423380726698262\n",
      "Recall: 0.21132075471698114\n",
      "F1 Score: 0.28600612870275793\n",
      "\n",
      "Class p4:\n",
      "Precision: 0.7178502879078695\n",
      "Recall: 0.7269193391642371\n",
      "F1 Score: 0.7223563495895703\n",
      "\n"
     ]
    }
   ],
   "source": [
    "# 1. Random Forest\n",
    "\n",
    "\n",
    "rf_classifier = RandomForestClassifier(n_estimators = 200, random_state=42)\n",
    "rf_classifier.fit(x_train, y_train)\n",
    "\n",
    "y_pred = rf_classifier.predict(x_test)\n",
    "accuracy = accuracy_score(y_test, y_pred)\n",
    "\n",
    "print ()\n",
    "print(f'Accuracy: {accuracy}')\n",
    "print ()\n",
    "\n",
    "precision, recall, f1_score, _ = precision_recall_fscore_support(y_test, y_pred)\n",
    "\n",
    "for i, v in enumerate(['p1', 'p2', 'p3', 'p4']):\n",
    "    print(f\"Class {v}:\")\n",
    "    print(f\"Precision: {precision[i]}\")\n",
    "    print(f\"Recall: {recall[i]}\")\n",
    "    print(f\"F1 Score: {f1_score[i]}\")\n",
    "    print()\n",
    "\n",
    "\n",
    "\n",
    "\n"
   ]
  },
  {
   "cell_type": "code",
   "execution_count": 48,
   "id": "3AMIshfc-2nJ",
   "metadata": {
    "colab": {
     "base_uri": "https://localhost:8080/"
    },
    "id": "3AMIshfc-2nJ",
    "outputId": "87133d71-558b-4937-dadd-bcae82d49497"
   },
   "outputs": [
    {
     "name": "stdout",
     "output_type": "stream",
     "text": [
      "\n",
      "Accuracy: 0.78\n",
      "\n",
      "Class p1:\n",
      "Precision: 0.823906083244397\n",
      "Recall: 0.7613412228796844\n",
      "F1 Score: 0.7913890312660173\n",
      "\n",
      "Class p2:\n",
      "Precision: 0.8255418233924413\n",
      "Recall: 0.913577799801784\n",
      "F1 Score: 0.8673315769665036\n",
      "\n",
      "Class p3:\n",
      "Precision: 0.4756380510440835\n",
      "Recall: 0.30943396226415093\n",
      "F1 Score: 0.3749428440786465\n",
      "\n",
      "Class p4:\n",
      "Precision: 0.7342386032977691\n",
      "Recall: 0.7356656948493683\n",
      "F1 Score: 0.7349514563106796\n",
      "\n"
     ]
    }
   ],
   "source": [
    "\n",
    "\n",
    "# 2. xgboost\n",
    "\n",
    "import xgboost as xgb\n",
    "from sklearn.preprocessing import LabelEncoder\n",
    "\n",
    "xgb_classifier = xgb.XGBClassifier(objective='multi:softmax',  num_class=4)\n",
    "\n",
    "\n",
    "\n",
    "y = df_encoded['Approved_Flag']\n",
    "x = df_encoded. drop ( ['Approved_Flag'], axis = 1 )\n",
    "\n",
    "\n",
    "label_encoder = LabelEncoder()\n",
    "y_encoded = label_encoder.fit_transform(y)\n",
    "\n",
    "\n",
    "x_train, x_test, y_train, y_test = train_test_split(x, y_encoded, test_size=0.2, random_state=42)\n",
    "\n",
    "\n",
    "\n",
    "xgb_classifier.fit(x_train, y_train)\n",
    "y_pred = xgb_classifier.predict(x_test)\n",
    "\n",
    "accuracy = accuracy_score(y_test, y_pred)\n",
    "print ()\n",
    "print(f'Accuracy: {accuracy:.2f}')\n",
    "print ()\n",
    "\n",
    "precision, recall, f1_score, _ = precision_recall_fscore_support(y_test, y_pred)\n",
    "\n",
    "for i, v in enumerate(['p1', 'p2', 'p3', 'p4']):\n",
    "    print(f\"Class {v}:\")\n",
    "    print(f\"Precision: {precision[i]}\")\n",
    "    print(f\"Recall: {recall[i]}\")\n",
    "    print(f\"F1 Score: {f1_score[i]}\")\n",
    "    print()\n",
    "\n",
    "\n",
    "\n",
    "\n",
    "\n"
   ]
  },
  {
   "cell_type": "code",
   "execution_count": 49,
   "id": "gX5y2uY2-3Rw",
   "metadata": {
    "colab": {
     "base_uri": "https://localhost:8080/"
    },
    "id": "gX5y2uY2-3Rw",
    "outputId": "fb05ab46-145a-4f80-abdf-7d66fc8ce664"
   },
   "outputs": [
    {
     "name": "stdout",
     "output_type": "stream",
     "text": [
      "\n",
      "Accuracy: 0.71\n",
      "\n",
      "Class p1:\n",
      "Precision: 0.7208619000979432\n",
      "Recall: 0.7258382642998028\n",
      "F1 Score: 0.7233415233415234\n",
      "\n",
      "Class p2:\n",
      "Precision: 0.8086719813338519\n",
      "Recall: 0.8243805748265609\n",
      "F1 Score: 0.8164507263447193\n",
      "\n",
      "Class p3:\n",
      "Precision: 0.34365079365079365\n",
      "Recall: 0.3267924528301887\n",
      "F1 Score: 0.3350096711798839\n",
      "\n",
      "Class p4:\n",
      "Precision: 0.6481294236602629\n",
      "Recall: 0.6229348882410107\n",
      "F1 Score: 0.6352824578790882\n",
      "\n"
     ]
    }
   ],
   "source": [
    "# 3. Decision Tree\n",
    "from sklearn.tree import DecisionTreeClassifier\n",
    "\n",
    "\n",
    "y = df_encoded['Approved_Flag']\n",
    "x = df_encoded. drop ( ['Approved_Flag'], axis = 1 )\n",
    "\n",
    "x_train, x_test, y_train, y_test = train_test_split(x, y, test_size=0.2, random_state=42)\n",
    "\n",
    "\n",
    "dt_model = DecisionTreeClassifier(max_depth=20, min_samples_split=10)\n",
    "dt_model.fit(x_train, y_train)\n",
    "y_pred = dt_model.predict(x_test)\n",
    "\n",
    "accuracy = accuracy_score(y_test, y_pred)\n",
    "print ()\n",
    "print(f\"Accuracy: {accuracy:.2f}\")\n",
    "print ()\n",
    "\n",
    "precision, recall, f1_score, _ = precision_recall_fscore_support(y_test, y_pred)\n",
    "\n",
    "for i, v in enumerate(['p1', 'p2', 'p3', 'p4']):\n",
    "    print(f\"Class {v}:\")\n",
    "    print(f\"Precision: {precision[i]}\")\n",
    "    print(f\"Recall: {recall[i]}\")\n",
    "    print(f\"F1 Score: {f1_score[i]}\")\n",
    "    print()\n",
    "\n",
    "\n",
    "\n",
    "\n"
   ]
  },
  {
   "cell_type": "markdown",
   "id": "8MMZRCzV_wgW",
   "metadata": {
    "id": "8MMZRCzV_wgW"
   },
   "source": [
    "\n",
    "### xgboost is giving me best results\n",
    "### We will further finetune it"
   ]
  },
  {
   "cell_type": "code",
   "execution_count": 58,
   "id": "srzImC-wDizg",
   "metadata": {
    "colab": {
     "base_uri": "https://localhost:8080/"
    },
    "id": "srzImC-wDizg",
    "outputId": "688c3ccd-2888-41b8-9039-cf4ec9bd34f5"
   },
   "outputs": [
    {
     "name": "stdout",
     "output_type": "stream",
     "text": [
      "Best Hyperparameters: {'alpha': 1, 'learning_rate': 0.2, 'max_depth': 4, 'n_estimators': 100}\n",
      "Test Accuracy: 0.7786758587899679\n"
     ]
    }
   ],
   "source": [
    "\n",
    "# Hyperparameter tuning in xgboost\n",
    "from sklearn.model_selection import GridSearchCV\n",
    "x_train, x_test, y_train, y_test = train_test_split(x, y_encoded, test_size=0.2, random_state=42)\n",
    "\n",
    "# Define the XGBClassifier with the initial set of hyperparameters\n",
    "xgb_model = xgb.XGBClassifier(objective='multi:softmax', num_class=4)\n",
    "\n",
    "\n",
    "# Define the parameter grid for hyperparameter tuning\n",
    "\n",
    "param_grid = {\n",
    "    'n_estimators': [100,200],\n",
    "    'max_depth': [4,6,8],\n",
    "    'learning_rate': [0.01,0.1,0.2],\n",
    "    'alpha': [0.1,0.5,1,10]\n",
    "}\n",
    "\n",
    "grid_search = GridSearchCV(estimator=xgb_model, param_grid=param_grid, cv=3, scoring='accuracy', n_jobs=-1)\n",
    "grid_search.fit(x_train, y_train)\n",
    "\n",
    "# Print the best hyperparameters\n",
    "print(\"Best Hyperparameters:\", grid_search.best_params_)\n",
    "\n",
    "# Evaluate the model with the best hyperparameters on the test set\n",
    "best_model = grid_search.best_estimator_\n",
    "accuracy = best_model.score(x_test, y_test)\n",
    "print(\"Test Accuracy:\", accuracy)\n",
    "\n",
    "# Best Hyperparameters: {'learning_rate': 0.2, 'max_depth': 3, 'n_estimators': 200}"
   ]
  },
  {
   "cell_type": "code",
   "execution_count": 1,
   "id": "JacdHqzDoYRD",
   "metadata": {
    "colab": {
     "base_uri": "https://localhost:8080/",
     "height": 245
    },
    "collapsed": true,
    "id": "JacdHqzDoYRD",
    "jupyter": {
     "outputs_hidden": true
    },
    "outputId": "0b9c423f-b414-455b-d0ce-b5fa3136c808"
   },
   "outputs": [
    {
     "name": "stdout",
     "output_type": "stream",
     "text": [
      "GridSearchCV Results:\n",
      "\n"
     ]
    },
    {
     "ename": "NameError",
     "evalue": "name 'grid_search' is not defined",
     "output_type": "error",
     "traceback": [
      "\u001b[0;31m---------------------------------------------------------------------------\u001b[0m",
      "\u001b[0;31mNameError\u001b[0m                                 Traceback (most recent call last)",
      "\u001b[0;32m<ipython-input-1-861e0e7e20fd>\u001b[0m in \u001b[0;36m<cell line: 6>\u001b[0;34m()\u001b[0m\n\u001b[1;32m      4\u001b[0m \u001b[0mprint\u001b[0m\u001b[0;34m(\u001b[0m\u001b[0;34m\"GridSearchCV Results:\"\u001b[0m\u001b[0;34m)\u001b[0m\u001b[0;34m\u001b[0m\u001b[0;34m\u001b[0m\u001b[0m\n\u001b[1;32m      5\u001b[0m \u001b[0mprint\u001b[0m\u001b[0;34m(\u001b[0m\u001b[0;34m)\u001b[0m\u001b[0;34m\u001b[0m\u001b[0;34m\u001b[0m\u001b[0m\n\u001b[0;32m----> 6\u001b[0;31m \u001b[0mprint\u001b[0m\u001b[0;34m(\u001b[0m\u001b[0;34m\"Parameters:\"\u001b[0m\u001b[0;34m,\u001b[0m \u001b[0mgrid_search\u001b[0m\u001b[0;34m.\u001b[0m\u001b[0mcv_results_\u001b[0m\u001b[0;34m[\u001b[0m\u001b[0;34m'params'\u001b[0m\u001b[0;34m]\u001b[0m\u001b[0;34m)\u001b[0m\u001b[0;34m\u001b[0m\u001b[0;34m\u001b[0m\u001b[0m\n\u001b[0m\u001b[1;32m      7\u001b[0m \u001b[0mprint\u001b[0m\u001b[0;34m(\u001b[0m\u001b[0;34m\"Mean Test Accuracy:\"\u001b[0m\u001b[0;34m,\u001b[0m \u001b[0mgrid_search\u001b[0m\u001b[0;34m.\u001b[0m\u001b[0mcv_results_\u001b[0m\u001b[0;34m[\u001b[0m\u001b[0;34m'mean_test_score'\u001b[0m\u001b[0;34m]\u001b[0m\u001b[0;34m)\u001b[0m\u001b[0;34m\u001b[0m\u001b[0;34m\u001b[0m\u001b[0m\n\u001b[1;32m      8\u001b[0m \u001b[0mprint\u001b[0m\u001b[0;34m(\u001b[0m\u001b[0;34m\"Standard Deviation:\"\u001b[0m\u001b[0;34m,\u001b[0m \u001b[0mgrid_search\u001b[0m\u001b[0;34m.\u001b[0m\u001b[0mcv_results_\u001b[0m\u001b[0;34m[\u001b[0m\u001b[0;34m'std_test_score'\u001b[0m\u001b[0;34m]\u001b[0m\u001b[0;34m)\u001b[0m\u001b[0;34m\u001b[0m\u001b[0;34m\u001b[0m\u001b[0m\n",
      "\u001b[0;31mNameError\u001b[0m: name 'grid_search' is not defined"
     ]
    }
   ],
   "source": [
    "# prompt: from above cell gridsearch cv print all parameter and result also add accuracy and loss\n",
    "\n",
    "# Print the results of the grid search\n",
    "print(\"GridSearchCV Results:\")\n",
    "print()\n",
    "print(\"Parameters:\", grid_search.cv_results_['params'])\n",
    "print(\"Mean Test Accuracy:\", grid_search.cv_results_['mean_test_score'])\n",
    "print(\"Standard Deviation:\", grid_search.cv_results_['std_test_score'])\n",
    "print()\n",
    "\n",
    "# Print the best parameters and score\n",
    "print(\"Best Parameters:\", grid_search.best_params_)\n",
    "print(\"Best Test Accuracy:\", grid_search.best_score_)\n",
    "\n",
    "# Evaluate the best model on the test set\n",
    "y_pred = best_model.predict(x_test)\n",
    "accuracy = accuracy_score(y_test, y_pred)\n",
    "loss = log_loss(y_test, best_model.predict_proba(x_test))\n",
    "print(\"Test Accuracy:\", accuracy)\n",
    "print(\"Test Loss:\", loss)\n"
   ]
  },
  {
   "cell_type": "code",
   "execution_count": 52,
   "id": "Xxl-jyiGBuCH",
   "metadata": {
    "id": "Xxl-jyiGBuCH"
   },
   "outputs": [],
   "source": [
    "# Getting best results with these-\n",
    "# colsample_bytree  0.7\n",
    "# learning_rate     0.2\n",
    "# max_depth         3\n",
    "# alpha             10.0\n",
    "# n_estimators      200"
   ]
  },
  {
   "cell_type": "code",
   "execution_count": 53,
   "id": "-al7Z6ksBsl1",
   "metadata": {
    "colab": {
     "base_uri": "https://localhost:8080/",
     "height": 248
    },
    "id": "-al7Z6ksBsl1",
    "outputId": "d87b76df-463f-485d-b381-ff9a62bb3488"
   },
   "outputs": [
    {
     "data": {
      "text/html": [
       "<style>#sk-container-id-1 {color: black;background-color: white;}#sk-container-id-1 pre{padding: 0;}#sk-container-id-1 div.sk-toggleable {background-color: white;}#sk-container-id-1 label.sk-toggleable__label {cursor: pointer;display: block;width: 100%;margin-bottom: 0;padding: 0.3em;box-sizing: border-box;text-align: center;}#sk-container-id-1 label.sk-toggleable__label-arrow:before {content: \"▸\";float: left;margin-right: 0.25em;color: #696969;}#sk-container-id-1 label.sk-toggleable__label-arrow:hover:before {color: black;}#sk-container-id-1 div.sk-estimator:hover label.sk-toggleable__label-arrow:before {color: black;}#sk-container-id-1 div.sk-toggleable__content {max-height: 0;max-width: 0;overflow: hidden;text-align: left;background-color: #f0f8ff;}#sk-container-id-1 div.sk-toggleable__content pre {margin: 0.2em;color: black;border-radius: 0.25em;background-color: #f0f8ff;}#sk-container-id-1 input.sk-toggleable__control:checked~div.sk-toggleable__content {max-height: 200px;max-width: 100%;overflow: auto;}#sk-container-id-1 input.sk-toggleable__control:checked~label.sk-toggleable__label-arrow:before {content: \"▾\";}#sk-container-id-1 div.sk-estimator input.sk-toggleable__control:checked~label.sk-toggleable__label {background-color: #d4ebff;}#sk-container-id-1 div.sk-label input.sk-toggleable__control:checked~label.sk-toggleable__label {background-color: #d4ebff;}#sk-container-id-1 input.sk-hidden--visually {border: 0;clip: rect(1px 1px 1px 1px);clip: rect(1px, 1px, 1px, 1px);height: 1px;margin: -1px;overflow: hidden;padding: 0;position: absolute;width: 1px;}#sk-container-id-1 div.sk-estimator {font-family: monospace;background-color: #f0f8ff;border: 1px dotted black;border-radius: 0.25em;box-sizing: border-box;margin-bottom: 0.5em;}#sk-container-id-1 div.sk-estimator:hover {background-color: #d4ebff;}#sk-container-id-1 div.sk-parallel-item::after {content: \"\";width: 100%;border-bottom: 1px solid gray;flex-grow: 1;}#sk-container-id-1 div.sk-label:hover label.sk-toggleable__label {background-color: #d4ebff;}#sk-container-id-1 div.sk-serial::before {content: \"\";position: absolute;border-left: 1px solid gray;box-sizing: border-box;top: 0;bottom: 0;left: 50%;z-index: 0;}#sk-container-id-1 div.sk-serial {display: flex;flex-direction: column;align-items: center;background-color: white;padding-right: 0.2em;padding-left: 0.2em;position: relative;}#sk-container-id-1 div.sk-item {position: relative;z-index: 1;}#sk-container-id-1 div.sk-parallel {display: flex;align-items: stretch;justify-content: center;background-color: white;position: relative;}#sk-container-id-1 div.sk-item::before, #sk-container-id-1 div.sk-parallel-item::before {content: \"\";position: absolute;border-left: 1px solid gray;box-sizing: border-box;top: 0;bottom: 0;left: 50%;z-index: -1;}#sk-container-id-1 div.sk-parallel-item {display: flex;flex-direction: column;z-index: 1;position: relative;background-color: white;}#sk-container-id-1 div.sk-parallel-item:first-child::after {align-self: flex-end;width: 50%;}#sk-container-id-1 div.sk-parallel-item:last-child::after {align-self: flex-start;width: 50%;}#sk-container-id-1 div.sk-parallel-item:only-child::after {width: 0;}#sk-container-id-1 div.sk-dashed-wrapped {border: 1px dashed gray;margin: 0 0.4em 0.5em 0.4em;box-sizing: border-box;padding-bottom: 0.4em;background-color: white;}#sk-container-id-1 div.sk-label label {font-family: monospace;font-weight: bold;display: inline-block;line-height: 1.2em;}#sk-container-id-1 div.sk-label-container {text-align: center;}#sk-container-id-1 div.sk-container {/* jupyter's `normalize.less` sets `[hidden] { display: none; }` but bootstrap.min.css set `[hidden] { display: none !important; }` so we also need the `!important` here to be able to override the default hidden behavior on the sphinx rendered scikit-learn.org. See: https://github.com/scikit-learn/scikit-learn/issues/21755 */display: inline-block !important;position: relative;}#sk-container-id-1 div.sk-text-repr-fallback {display: none;}</style><div id=\"sk-container-id-1\" class=\"sk-top-container\"><div class=\"sk-text-repr-fallback\"><pre>XGBClassifier(alpha=0.3, base_score=None, booster=None, callbacks=None,\n",
       "              colsample_bylevel=None, colsample_bynode=None,\n",
       "              colsample_bytree=0.7, device=None, early_stopping_rounds=None,\n",
       "              enable_categorical=False, eval_metric=&#x27;merror&#x27;,\n",
       "              feature_types=None, gamma=None, grow_policy=None,\n",
       "              importance_type=None, interaction_constraints=None,\n",
       "              learning_rate=0.3, max_bin=None, max_cat_threshold=None,\n",
       "              max_cat_to_onehot=None, max_delta_step=None, max_depth=5,\n",
       "              max_leaves=None, min_child_weight=None, missing=nan,\n",
       "              monotone_constraints=None, multi_strategy=None, n_estimators=200,\n",
       "              n_jobs=None, num_class=4, ...)</pre><b>In a Jupyter environment, please rerun this cell to show the HTML representation or trust the notebook. <br />On GitHub, the HTML representation is unable to render, please try loading this page with nbviewer.org.</b></div><div class=\"sk-container\" hidden><div class=\"sk-item\"><div class=\"sk-estimator sk-toggleable\"><input class=\"sk-toggleable__control sk-hidden--visually\" id=\"sk-estimator-id-1\" type=\"checkbox\" checked><label for=\"sk-estimator-id-1\" class=\"sk-toggleable__label sk-toggleable__label-arrow\">XGBClassifier</label><div class=\"sk-toggleable__content\"><pre>XGBClassifier(alpha=0.3, base_score=None, booster=None, callbacks=None,\n",
       "              colsample_bylevel=None, colsample_bynode=None,\n",
       "              colsample_bytree=0.7, device=None, early_stopping_rounds=None,\n",
       "              enable_categorical=False, eval_metric=&#x27;merror&#x27;,\n",
       "              feature_types=None, gamma=None, grow_policy=None,\n",
       "              importance_type=None, interaction_constraints=None,\n",
       "              learning_rate=0.3, max_bin=None, max_cat_threshold=None,\n",
       "              max_cat_to_onehot=None, max_delta_step=None, max_depth=5,\n",
       "              max_leaves=None, min_child_weight=None, missing=nan,\n",
       "              monotone_constraints=None, multi_strategy=None, n_estimators=200,\n",
       "              n_jobs=None, num_class=4, ...)</pre></div></div></div></div></div>"
      ],
      "text/plain": [
       "XGBClassifier(alpha=0.3, base_score=None, booster=None, callbacks=None,\n",
       "              colsample_bylevel=None, colsample_bynode=None,\n",
       "              colsample_bytree=0.7, device=None, early_stopping_rounds=None,\n",
       "              enable_categorical=False, eval_metric='merror',\n",
       "              feature_types=None, gamma=None, grow_policy=None,\n",
       "              importance_type=None, interaction_constraints=None,\n",
       "              learning_rate=0.3, max_bin=None, max_cat_threshold=None,\n",
       "              max_cat_to_onehot=None, max_delta_step=None, max_depth=5,\n",
       "              max_leaves=None, min_child_weight=None, missing=nan,\n",
       "              monotone_constraints=None, multi_strategy=None, n_estimators=200,\n",
       "              n_jobs=None, num_class=4, ...)"
      ]
     },
     "execution_count": 53,
     "metadata": {},
     "output_type": "execute_result"
    }
   ],
   "source": [
    "# Retrain on the new parameters\n",
    "model = xgb.XGBClassifier(objective='multi:softmax',\n",
    "                         colsample_bytree = 0.7,\n",
    "                         learning_rate    = 0.3,\n",
    "                         max_depth        = 5,\n",
    "                         alpha            = 0.3,\n",
    "                         n_estimators     = 200,\n",
    "                         eval_metric = 'merror',\n",
    "                         num_class = 4)\n",
    "\n",
    "\n",
    "model.fit(x_train, y_train)"
   ]
  },
  {
   "cell_type": "code",
   "execution_count": 54,
   "id": "6izr3IRGBwPH",
   "metadata": {
    "colab": {
     "base_uri": "https://localhost:8080/"
    },
    "id": "6izr3IRGBwPH",
    "outputId": "8b5f7302-0dd5-4fe2-9679-bc17d105aaa6"
   },
   "outputs": [
    {
     "name": "stdout",
     "output_type": "stream",
     "text": [
      "\n",
      "R-squared: 0.5879347277270921\n",
      "RMSE: 0.5324376368710059\n",
      "Stddev difference 0.6419231046417537\n"
     ]
    }
   ],
   "source": [
    "from sklearn.metrics import mean_squared_error\n",
    "\n",
    "# Predicting on the testing set\n",
    "y_pred = model.predict(x_test)\n",
    "\n",
    "# Calculate loss metrics\n",
    "print()\n",
    "r2 = r2_score(y_test, y_pred)\n",
    "print('R-squared:', r2)\n",
    "rmse = np.sqrt(mean_squared_error(y_test, y_pred))\n",
    "print('RMSE:', rmse)\n",
    "stddev = y_test.std()\n",
    "print('Stddev difference', rmse/stddev)"
   ]
  },
  {
   "cell_type": "code",
   "execution_count": 55,
   "id": "ambQe1y4dJlG",
   "metadata": {
    "colab": {
     "base_uri": "https://localhost:8080/"
    },
    "id": "ambQe1y4dJlG",
    "outputId": "0de36c04-dcf8-4fbb-d03b-98b1fcc055b0"
   },
   "outputs": [
    {
     "data": {
      "text/plain": [
       "0.7713063116605253"
      ]
     },
     "execution_count": 55,
     "metadata": {},
     "output_type": "execute_result"
    }
   ],
   "source": [
    "model.score(x_test,y_test)"
   ]
  },
  {
   "cell_type": "code",
   "execution_count": 56,
   "id": "vkxw4GYT94gt",
   "metadata": {
    "id": "vkxw4GYT94gt"
   },
   "outputs": [],
   "source": [
    "# save the model\n",
    "import pickle\n",
    "filename = 'eps_v1.pkl'\n",
    "pickle.dump(model, open(filename,'wb'))\n",
    "\n",
    "\n",
    "# load_model = pickle.load(open(filename,'rb'))\n",
    "\n",
    "\n",
    "# arg = x_train[:2]\n",
    "# load_model.predict(arg)\n",
    "\n",
    "\n",
    "# ROCE (%)\n",
    "# 1.91\n",
    "\n",
    "\n",
    "# CASA (%)\n",
    "# 39.47\n",
    "\n",
    "\n",
    "# Return on Equity / Networth (%)\n",
    "# 14.36\n",
    "\n",
    "\n",
    "# Non-Interest Income/Total Assets (%)\n",
    "# 0.68\n",
    "\n",
    "\n",
    "# Operating Profit/Total Assets (%)\n",
    "# 0.27\n",
    "\n",
    "\n",
    "# Operating Expenses/Total Assets (%)\n",
    "# 1.68\n",
    "\n",
    "# Interest Expenses/Total Assets (%)\n",
    "# 3.3\n",
    "\n",
    "\n",
    "# Face_value\n",
    "# 2\n",
    "\n",
    "\n",
    "# Basic EPS (Rs.)\n",
    "# 27.28"
   ]
  },
  {
   "cell_type": "code",
   "execution_count": 57,
   "id": "gY4mCSw5dnp5",
   "metadata": {
    "colab": {
     "base_uri": "https://localhost:8080/"
    },
    "id": "gY4mCSw5dnp5",
    "outputId": "e780f468-e51a-45bb-afc2-b5cb783708e3"
   },
   "outputs": [
    {
     "data": {
      "text/plain": [
       "array([1, 3, 1, ..., 2, 1, 3], dtype=int32)"
      ]
     },
     "execution_count": 57,
     "metadata": {},
     "output_type": "execute_result"
    }
   ],
   "source": [
    "model.predict(x_test)"
   ]
  },
  {
   "cell_type": "code",
   "execution_count": null,
   "id": "v0CS_Qu6EVwg",
   "metadata": {
    "id": "v0CS_Qu6EVwg"
   },
   "outputs": [],
   "source": []
  }
 ],
 "metadata": {
  "accelerator": "GPU",
  "colab": {
   "gpuType": "T4",
   "provenance": []
  },
  "kernelspec": {
   "display_name": "Python 3 (ipykernel)",
   "language": "python",
   "name": "python3"
  },
  "language_info": {
   "codemirror_mode": {
    "name": "ipython",
    "version": 3
   },
   "file_extension": ".py",
   "mimetype": "text/x-python",
   "name": "python",
   "nbconvert_exporter": "python",
   "pygments_lexer": "ipython3",
   "version": "3.12.2"
  }
 },
 "nbformat": 4,
 "nbformat_minor": 5
}
